{
 "cells": [
  {
   "cell_type": "markdown",
   "id": "322bd603",
   "metadata": {},
   "source": [
    "#DATA types (int, float- has decimals, string- should have '') "
   ]
  },
  {
   "cell_type": "markdown",
   "id": "7855bc90",
   "metadata": {},
   "source": [
    "# VARIABLES"
   ]
  },
  {
   "cell_type": "code",
   "execution_count": 1,
   "id": "3f814352",
   "metadata": {},
   "outputs": [],
   "source": [
    "x=3"
   ]
  },
  {
   "cell_type": "code",
   "execution_count": 2,
   "id": "cd984357",
   "metadata": {},
   "outputs": [
    {
     "name": "stdout",
     "output_type": "stream",
     "text": [
      "Variable   Type    Data/Info\n",
      "----------------------------\n",
      "x          int     3\n"
     ]
    }
   ],
   "source": [
    "%whos"
   ]
  },
  {
   "cell_type": "markdown",
   "id": "bb02d923",
   "metadata": {},
   "source": [
    " %whos - tells you all the variable available in the memory."
   ]
  },
  {
   "cell_type": "code",
   "execution_count": 3,
   "id": "b16c546d",
   "metadata": {},
   "outputs": [
    {
     "name": "stdout",
     "output_type": "stream",
     "text": [
      "<class 'int'>\n"
     ]
    }
   ],
   "source": [
    "print(type(x))"
   ]
  },
  {
   "cell_type": "code",
   "execution_count": 4,
   "id": "2fbeba97",
   "metadata": {},
   "outputs": [],
   "source": [
    "abcd=556.32"
   ]
  },
  {
   "cell_type": "code",
   "execution_count": 5,
   "id": "3862526c",
   "metadata": {},
   "outputs": [],
   "source": [
    "a,b,c,d,f= 3,5,6.0,7.2,-3"
   ]
  },
  {
   "cell_type": "code",
   "execution_count": 6,
   "id": "dbaea47b",
   "metadata": {},
   "outputs": [
    {
     "name": "stdout",
     "output_type": "stream",
     "text": [
      "Variable   Type     Data/Info\n",
      "-----------------------------\n",
      "a          int      3\n",
      "abcd       float    556.32\n",
      "b          int      5\n",
      "c          float    6.0\n",
      "d          float    7.2\n",
      "f          int      -3\n",
      "x          int      3\n"
     ]
    }
   ],
   "source": [
    "%whos"
   ]
  },
  {
   "cell_type": "code",
   "execution_count": 7,
   "id": "74bad559",
   "metadata": {},
   "outputs": [],
   "source": [
    "del abcd"
   ]
  },
  {
   "cell_type": "code",
   "execution_count": 8,
   "id": "196b14db",
   "metadata": {},
   "outputs": [
    {
     "name": "stdout",
     "output_type": "stream",
     "text": [
      "Variable   Type     Data/Info\n",
      "-----------------------------\n",
      "a          int      3\n",
      "b          int      5\n",
      "c          float    6.0\n",
      "d          float    7.2\n",
      "f          int      -3\n",
      "x          int      3\n"
     ]
    }
   ],
   "source": [
    "%whos"
   ]
  },
  {
   "cell_type": "code",
   "execution_count": 9,
   "id": "65e62da2",
   "metadata": {},
   "outputs": [
    {
     "ename": "NameError",
     "evalue": "name 'abcd' is not defined",
     "output_type": "error",
     "traceback": [
      "\u001b[1;31m---------------------------------------------------------------------------\u001b[0m",
      "\u001b[1;31mNameError\u001b[0m                                 Traceback (most recent call last)",
      "Input \u001b[1;32mIn [9]\u001b[0m, in \u001b[0;36m<cell line: 1>\u001b[1;34m()\u001b[0m\n\u001b[1;32m----> 1\u001b[0m \u001b[38;5;28mprint\u001b[39m(\u001b[43mabcd\u001b[49m)\n",
      "\u001b[1;31mNameError\u001b[0m: name 'abcd' is not defined"
     ]
    }
   ],
   "source": [
    "print(abcd)"
   ]
  },
  {
   "cell_type": "code",
   "execution_count": 10,
   "id": "d4523d29",
   "metadata": {},
   "outputs": [],
   "source": [
    "c= 2+4j"
   ]
  },
  {
   "cell_type": "code",
   "execution_count": 11,
   "id": "ac921842",
   "metadata": {},
   "outputs": [
    {
     "name": "stdout",
     "output_type": "stream",
     "text": [
      "<class 'complex'>\n"
     ]
    }
   ],
   "source": [
    "print(type(c))"
   ]
  },
  {
   "cell_type": "code",
   "execution_count": 12,
   "id": "51bb0eaf",
   "metadata": {},
   "outputs": [],
   "source": [
    "s=\"Hello how are you\""
   ]
  },
  {
   "cell_type": "code",
   "execution_count": 13,
   "id": "3b4eb7b3",
   "metadata": {},
   "outputs": [
    {
     "name": "stdout",
     "output_type": "stream",
     "text": [
      "<class 'str'>\n"
     ]
    }
   ],
   "source": [
    "print(type(s))"
   ]
  },
  {
   "cell_type": "markdown",
   "id": "e964b880",
   "metadata": {},
   "source": [
    "Python automatically specifies the data type for you. You need not specify. Types of data type"
   ]
  },
  {
   "cell_type": "markdown",
   "id": "4c7a219c",
   "metadata": {},
   "source": [
    "Int, float, string, complex - Examples of the types are as in the codes above."
   ]
  },
  {
   "cell_type": "markdown",
   "id": "51aa26ee",
   "metadata": {},
   "source": [
    "# OPERATORS"
   ]
  },
  {
   "cell_type": "markdown",
   "id": "dc305b7a",
   "metadata": {},
   "source": [
    "+ Addition , - subtraction, / division , * multiplication"
   ]
  },
  {
   "cell_type": "markdown",
   "id": "7eefbe66",
   "metadata": {},
   "source": [
    "% mod .... Gives you the remainder after dividing. 27%5 = 2"
   ]
  },
  {
   "cell_type": "markdown",
   "id": "fbf9c754",
   "metadata": {},
   "source": [
    "// floor division ... Gives you the quotient and ignores the decimal values. 10//3 = 3"
   ]
  },
  {
   "cell_type": "markdown",
   "id": "af00ab32",
   "metadata": {},
   "source": [
    "** to the power of .. 2**4 = 16"
   ]
  },
  {
   "cell_type": "markdown",
   "id": "d4db004d",
   "metadata": {},
   "source": [
    "operators are also used in strings."
   ]
  },
  {
   "cell_type": "code",
   "execution_count": 14,
   "id": "8e9ca7da",
   "metadata": {},
   "outputs": [],
   "source": [
    "sumOfaAndb = a+b"
   ]
  },
  {
   "cell_type": "code",
   "execution_count": 15,
   "id": "26b6d68f",
   "metadata": {},
   "outputs": [
    {
     "name": "stdout",
     "output_type": "stream",
     "text": [
      "8\n"
     ]
    }
   ],
   "source": [
    "print(sumOfaAndb)"
   ]
  },
  {
   "cell_type": "code",
   "execution_count": 16,
   "id": "3fb16680",
   "metadata": {},
   "outputs": [
    {
     "name": "stdout",
     "output_type": "stream",
     "text": [
      "<class 'int'>\n"
     ]
    }
   ],
   "source": [
    "print(type(sumOfaAndb))"
   ]
  },
  {
   "cell_type": "code",
   "execution_count": 17,
   "id": "a4554439",
   "metadata": {},
   "outputs": [
    {
     "name": "stdout",
     "output_type": "stream",
     "text": [
      "Variable     Type       Data/Info\n",
      "---------------------------------\n",
      "a            int        3\n",
      "b            int        5\n",
      "c            complex    (2+4j)\n",
      "d            float      7.2\n",
      "f            int        -3\n",
      "s            str        Hello how are you\n",
      "sumOfaAndb   int        8\n",
      "x            int        3\n"
     ]
    }
   ],
   "source": [
    "%whos"
   ]
  },
  {
   "cell_type": "code",
   "execution_count": 18,
   "id": "f8ba7665",
   "metadata": {},
   "outputs": [
    {
     "name": "stdout",
     "output_type": "stream",
     "text": [
      "hellowworld\n"
     ]
    }
   ],
   "source": [
    "s1 = 'hellow'\n",
    "s2 = 'world'\n",
    "s = s1+s2\n",
    "print(s)"
   ]
  },
  {
   "cell_type": "code",
   "execution_count": 19,
   "id": "a572158c",
   "metadata": {},
   "outputs": [
    {
     "data": {
      "text/plain": [
       "str"
      ]
     },
     "execution_count": 19,
     "metadata": {},
     "output_type": "execute_result"
    }
   ],
   "source": [
    "type(s)"
   ]
  },
  {
   "cell_type": "markdown",
   "id": "cea40f4b",
   "metadata": {},
   "source": [
    " if you did not store your last value, you can use _ 'underscore' to retract the last value you implemented on your command since it is ana utomatic variable assigned to the last prompt"
   ]
  },
  {
   "cell_type": "markdown",
   "id": "4050fea2",
   "metadata": {},
   "source": [
    "# TYPE BOOL and COMPARISONS"
   ]
  },
  {
   "cell_type": "markdown",
   "id": "9caa41ac",
   "metadata": {},
   "source": [
    "'and'- Operator will result 'TRUE' if both variables are 'TRUE' Otherwise 'False'\n",
    "\n",
    "'or' - Operator will result 'false' if both are False Otherwise it is 'True' if atleast one of the 2 is 'True'\n",
    " Both 'and' & 'or' are Binary Operators.\n",
    " \n",
    "    SYMBOL        TASK PERFORMED\n",
    "    ==             True if it is equal \n",
    "    !=             True, if not equal\n",
    "    <              less than\n",
    "    >              greater than\n",
    "    <=             less than or equal to\n",
    "    >=              greater than or equal to"
   ]
  },
  {
   "cell_type": "markdown",
   "id": "bcd69dec",
   "metadata": {},
   "source": [
    "### BOOL"
   ]
  },
  {
   "cell_type": "code",
   "execution_count": 1,
   "id": "86039ffa",
   "metadata": {},
   "outputs": [],
   "source": [
    "a = True\n",
    "b = True\n",
    "c = False"
   ]
  },
  {
   "cell_type": "code",
   "execution_count": 2,
   "id": "dd7e6c64",
   "metadata": {},
   "outputs": [
    {
     "name": "stdout",
     "output_type": "stream",
     "text": [
      "Variable   Type    Data/Info\n",
      "----------------------------\n",
      "a          bool    True\n",
      "b          bool    True\n",
      "c          bool    False\n"
     ]
    }
   ],
   "source": [
    "%whos"
   ]
  },
  {
   "cell_type": "code",
   "execution_count": 5,
   "id": "1f4e0962",
   "metadata": {},
   "outputs": [
    {
     "name": "stdout",
     "output_type": "stream",
     "text": [
      "True\n",
      "False\n",
      "False\n"
     ]
    }
   ],
   "source": [
    "print(a and b)\n",
    "print (a and c)\n",
    "print ( c and a)\n"
   ]
  },
  {
   "cell_type": "code",
   "execution_count": 4,
   "id": "03448823",
   "metadata": {},
   "outputs": [
    {
     "name": "stdout",
     "output_type": "stream",
     "text": [
      "True\n"
     ]
    }
   ],
   "source": [
    "d = a or c\n",
    "print(d)"
   ]
  },
  {
   "cell_type": "code",
   "execution_count": 6,
   "id": "9c817be2",
   "metadata": {},
   "outputs": [
    {
     "data": {
      "text/plain": [
       "False"
      ]
     },
     "execution_count": 6,
     "metadata": {},
     "output_type": "execute_result"
    }
   ],
   "source": [
    "not (a)"
   ]
  },
  {
   "cell_type": "code",
   "execution_count": 7,
   "id": "9d7fe224",
   "metadata": {},
   "outputs": [
    {
     "data": {
      "text/plain": [
       "False"
      ]
     },
     "execution_count": 7,
     "metadata": {},
     "output_type": "execute_result"
    }
   ],
   "source": [
    "not (b)"
   ]
  },
  {
   "cell_type": "code",
   "execution_count": 8,
   "id": "059fad2f",
   "metadata": {},
   "outputs": [
    {
     "data": {
      "text/plain": [
       "True"
      ]
     },
     "execution_count": 8,
     "metadata": {},
     "output_type": "execute_result"
    }
   ],
   "source": [
    "not(c)"
   ]
  },
  {
   "cell_type": "code",
   "execution_count": 9,
   "id": "e439abaf",
   "metadata": {},
   "outputs": [],
   "source": [
    "t = not(d)"
   ]
  },
  {
   "cell_type": "code",
   "execution_count": 10,
   "id": "266cd14b",
   "metadata": {},
   "outputs": [
    {
     "data": {
      "text/plain": [
       "bool"
      ]
     },
     "execution_count": 10,
     "metadata": {},
     "output_type": "execute_result"
    }
   ],
   "source": [
    "type(t)"
   ]
  },
  {
   "cell_type": "code",
   "execution_count": 11,
   "id": "20f7201b",
   "metadata": {},
   "outputs": [
    {
     "name": "stdout",
     "output_type": "stream",
     "text": [
      "False\n"
     ]
    }
   ],
   "source": [
    "print(t)"
   ]
  },
  {
   "cell_type": "code",
   "execution_count": 12,
   "id": "f6ba6f96",
   "metadata": {},
   "outputs": [
    {
     "data": {
      "text/plain": [
       "False"
      ]
     },
     "execution_count": 12,
     "metadata": {},
     "output_type": "execute_result"
    }
   ],
   "source": [
    "not((a and b) or (c or d))"
   ]
  },
  {
   "cell_type": "markdown",
   "id": "06a9e7fc",
   "metadata": {},
   "source": [
    "# COMPARISONS"
   ]
  },
  {
   "cell_type": "code",
   "execution_count": 13,
   "id": "3e305619",
   "metadata": {},
   "outputs": [
    {
     "name": "stdout",
     "output_type": "stream",
     "text": [
      "True\n"
     ]
    }
   ],
   "source": [
    "print(2<3)"
   ]
  },
  {
   "cell_type": "code",
   "execution_count": 17,
   "id": "20eec7df",
   "metadata": {},
   "outputs": [
    {
     "data": {
      "text/plain": [
       "bool"
      ]
     },
     "execution_count": 17,
     "metadata": {},
     "output_type": "execute_result"
    }
   ],
   "source": [
    "c=2<3\n",
    "type(c)"
   ]
  },
  {
   "cell_type": "code",
   "execution_count": 19,
   "id": "f46234d0",
   "metadata": {},
   "outputs": [
    {
     "name": "stdout",
     "output_type": "stream",
     "text": [
      "True\n"
     ]
    }
   ],
   "source": [
    "print(c)"
   ]
  },
  {
   "cell_type": "code",
   "execution_count": 16,
   "id": "6aebda71",
   "metadata": {},
   "outputs": [
    {
     "name": "stdout",
     "output_type": "stream",
     "text": [
      "Variable   Type    Data/Info\n",
      "----------------------------\n",
      "a          bool    True\n",
      "b          bool    True\n",
      "c          bool    False\n",
      "d          bool    True\n",
      "t          bool    False\n"
     ]
    }
   ],
   "source": [
    "%whos"
   ]
  },
  {
   "cell_type": "code",
   "execution_count": 20,
   "id": "7589d806",
   "metadata": {},
   "outputs": [],
   "source": [
    "d = 3==4"
   ]
  },
  {
   "cell_type": "code",
   "execution_count": 21,
   "id": "3f660b29",
   "metadata": {},
   "outputs": [
    {
     "name": "stdout",
     "output_type": "stream",
     "text": [
      "False\n"
     ]
    }
   ],
   "source": [
    "print(d)"
   ]
  },
  {
   "cell_type": "code",
   "execution_count": 22,
   "id": "9c22ca09",
   "metadata": {},
   "outputs": [
    {
     "data": {
      "text/plain": [
       "True"
      ]
     },
     "execution_count": 22,
     "metadata": {},
     "output_type": "execute_result"
    }
   ],
   "source": [
    "3==3.0"
   ]
  },
  {
   "cell_type": "code",
   "execution_count": 23,
   "id": "b94fba0a",
   "metadata": {},
   "outputs": [],
   "source": [
    "x=4\n",
    "y=9\n",
    "z=8.3\n",
    "r=-3"
   ]
  },
  {
   "cell_type": "code",
   "execution_count": 24,
   "id": "02d33d79",
   "metadata": {},
   "outputs": [
    {
     "data": {
      "text/plain": [
       "True"
      ]
     },
     "execution_count": 24,
     "metadata": {},
     "output_type": "execute_result"
    }
   ],
   "source": [
    "(x<y) and (z<y) or (r==x)"
   ]
  },
  {
   "cell_type": "code",
   "execution_count": 25,
   "id": "03bf7e38",
   "metadata": {},
   "outputs": [
    {
     "data": {
      "text/plain": [
       "False"
      ]
     },
     "execution_count": 25,
     "metadata": {},
     "output_type": "execute_result"
    }
   ],
   "source": [
    "(r==x) and (x<y) or (z>y)"
   ]
  },
  {
   "cell_type": "code",
   "execution_count": 26,
   "id": "1a2881ef",
   "metadata": {},
   "outputs": [
    {
     "data": {
      "text/plain": [
       "True"
      ]
     },
     "execution_count": 26,
     "metadata": {},
     "output_type": "execute_result"
    }
   ],
   "source": [
    "True or False and True"
   ]
  },
  {
   "cell_type": "code",
   "execution_count": 27,
   "id": "f8c0b2a9",
   "metadata": {},
   "outputs": [
    {
     "name": "stdout",
     "output_type": "stream",
     "text": [
      "False\n"
     ]
    }
   ],
   "source": [
    "print((not(2!=3) and True) or (False and True))"
   ]
  },
  {
   "cell_type": "markdown",
   "id": "669e2a85",
   "metadata": {},
   "source": [
    "# USEFUL FUNCTIONS"
   ]
  },
  {
   "cell_type": "markdown",
   "id": "7a946417",
   "metadata": {},
   "source": [
    "round () - rounds the input value to a specified no. of places or the nearest interger.\n"
   ]
  },
  {
   "cell_type": "code",
   "execution_count": 28,
   "id": "ebaa063e",
   "metadata": {},
   "outputs": [
    {
     "name": "stdout",
     "output_type": "stream",
     "text": [
      "5\n"
     ]
    }
   ],
   "source": [
    "print(round (4.556))"
   ]
  },
  {
   "cell_type": "code",
   "execution_count": 29,
   "id": "fd81567f",
   "metadata": {},
   "outputs": [
    {
     "name": "stdout",
     "output_type": "stream",
     "text": [
      "4.56\n"
     ]
    }
   ],
   "source": [
    "print(round(4.556789,2))"
   ]
  },
  {
   "cell_type": "markdown",
   "id": "50fa8720",
   "metadata": {},
   "source": [
    "divmod(x,y) - divides  and outputs the quotient and remainder in a tuple."
   ]
  },
  {
   "cell_type": "code",
   "execution_count": 32,
   "id": "58d861a1",
   "metadata": {},
   "outputs": [
    {
     "name": "stdout",
     "output_type": "stream",
     "text": [
      "(5, 2)\n"
     ]
    }
   ],
   "source": [
    "print(divmod(27,5))"
   ]
  },
  {
   "cell_type": "code",
   "execution_count": 33,
   "id": "25a28425",
   "metadata": {},
   "outputs": [
    {
     "name": "stdout",
     "output_type": "stream",
     "text": [
      "<class 'NoneType'>\n"
     ]
    }
   ],
   "source": [
    "print(type(G))"
   ]
  },
  {
   "cell_type": "code",
   "execution_count": 34,
   "id": "07c357ed",
   "metadata": {},
   "outputs": [],
   "source": [
    "G = divmod(27,5)"
   ]
  },
  {
   "cell_type": "code",
   "execution_count": 35,
   "id": "a4a90cd5",
   "metadata": {},
   "outputs": [
    {
     "name": "stdout",
     "output_type": "stream",
     "text": [
      "<class 'tuple'>\n"
     ]
    }
   ],
   "source": [
    "print (type(G))"
   ]
  },
  {
   "cell_type": "code",
   "execution_count": 36,
   "id": "40aa7f6b",
   "metadata": {},
   "outputs": [
    {
     "data": {
      "text/plain": [
       "5"
      ]
     },
     "execution_count": 36,
     "metadata": {},
     "output_type": "execute_result"
    }
   ],
   "source": [
    "G[0]"
   ]
  },
  {
   "cell_type": "code",
   "execution_count": 37,
   "id": "ae253473",
   "metadata": {},
   "outputs": [
    {
     "data": {
      "text/plain": [
       "2"
      ]
     },
     "execution_count": 37,
     "metadata": {},
     "output_type": "execute_result"
    }
   ],
   "source": [
    "G[1]"
   ]
  },
  {
   "cell_type": "code",
   "execution_count": 38,
   "id": "738132b3",
   "metadata": {},
   "outputs": [
    {
     "data": {
      "text/plain": [
       "5"
      ]
     },
     "execution_count": 38,
     "metadata": {},
     "output_type": "execute_result"
    }
   ],
   "source": [
    "27//5"
   ]
  },
  {
   "cell_type": "code",
   "execution_count": 39,
   "id": "3faeb429",
   "metadata": {},
   "outputs": [
    {
     "data": {
      "text/plain": [
       "2"
      ]
     },
     "execution_count": 39,
     "metadata": {},
     "output_type": "execute_result"
    }
   ],
   "source": [
    "27%5"
   ]
  },
  {
   "cell_type": "markdown",
   "id": "c37ee389",
   "metadata": {},
   "source": [
    "You can achieve divmod by using // (floordivision) - gives you the whole value and ignores remainder and % (mod) - gives you the remainder."
   ]
  },
  {
   "cell_type": "markdown",
   "id": "fc95a1a1",
   "metadata": {},
   "source": [
    "isinstance() - returns True, if the first argument is an instance of that class.\n",
    "Multiple classes can also be checked at once.\n",
    "Returns False if the first argument is Not an instance of that class."
   ]
  },
  {
   "cell_type": "code",
   "execution_count": 40,
   "id": "a01c3fce",
   "metadata": {},
   "outputs": [
    {
     "data": {
      "text/plain": [
       "True"
      ]
     },
     "execution_count": 40,
     "metadata": {},
     "output_type": "execute_result"
    }
   ],
   "source": [
    "isinstance(3.4,float)"
   ]
  },
  {
   "cell_type": "code",
   "execution_count": 41,
   "id": "fafb4b0c",
   "metadata": {},
   "outputs": [
    {
     "data": {
      "text/plain": [
       "False"
      ]
     },
     "execution_count": 41,
     "metadata": {},
     "output_type": "execute_result"
    }
   ],
   "source": [
    "isinstance(2+3j,(int,float,str))"
   ]
  },
  {
   "cell_type": "code",
   "execution_count": 42,
   "id": "2d2c73d1",
   "metadata": {},
   "outputs": [
    {
     "data": {
      "text/plain": [
       "True"
      ]
     },
     "execution_count": 42,
     "metadata": {},
     "output_type": "execute_result"
    }
   ],
   "source": [
    "isinstance(2+3j,(int,float,str,complex))"
   ]
  },
  {
   "cell_type": "markdown",
   "id": "28fbd4d7",
   "metadata": {},
   "source": [
    "pow(x,y,z) x raise to the power y and remainder (mod%) by z ... \n",
    "x**y this can also be used as power. So x**y = pow(x,y)"
   ]
  },
  {
   "cell_type": "code",
   "execution_count": 43,
   "id": "ee2a3a03",
   "metadata": {},
   "outputs": [
    {
     "data": {
      "text/plain": [
       "16"
      ]
     },
     "execution_count": 43,
     "metadata": {},
     "output_type": "execute_result"
    }
   ],
   "source": [
    "pow(2,4)"
   ]
  },
  {
   "cell_type": "code",
   "execution_count": 44,
   "id": "f1ccb6be",
   "metadata": {},
   "outputs": [
    {
     "data": {
      "text/plain": [
       "16"
      ]
     },
     "execution_count": 44,
     "metadata": {},
     "output_type": "execute_result"
    }
   ],
   "source": [
    "2**4"
   ]
  },
  {
   "cell_type": "code",
   "execution_count": 45,
   "id": "6d1ac821",
   "metadata": {},
   "outputs": [
    {
     "data": {
      "text/plain": [
       "2"
      ]
     },
     "execution_count": 45,
     "metadata": {},
     "output_type": "execute_result"
    }
   ],
   "source": [
    "pow(2,4,7)"
   ]
  },
  {
   "cell_type": "markdown",
   "id": "29171ad7",
   "metadata": {},
   "source": [
    "The above means 2 raised to power 4 which = 16 , then get the mod % ..\n",
    "16%7 which is 2, Mod refers to the remainder after dividing by 7 as per the example herein."
   ]
  },
  {
   "cell_type": "markdown",
   "id": "6108f0df",
   "metadata": {},
   "source": [
    "Input() a = input(\"Enter something\")\n",
    "using this function, you can input a value or text, but whatever it is you input, it shall be of the type STRING. Then if it was an interger, changes can be made later."
   ]
  },
  {
   "cell_type": "code",
   "execution_count": 47,
   "id": "60b41416",
   "metadata": {},
   "outputs": [
    {
     "name": "stdout",
     "output_type": "stream",
     "text": [
      "Enter a number :56\n"
     ]
    }
   ],
   "source": [
    "x = input(\"Enter a number :\")"
   ]
  },
  {
   "cell_type": "code",
   "execution_count": 1,
   "id": "926a261e",
   "metadata": {},
   "outputs": [
    {
     "name": "stdout",
     "output_type": "stream",
     "text": [
      "Interactive namespace is empty.\n"
     ]
    }
   ],
   "source": [
    "%whos"
   ]
  },
  {
   "cell_type": "code",
   "execution_count": 2,
   "id": "010fbfb6",
   "metadata": {},
   "outputs": [
    {
     "name": "stdout",
     "output_type": "stream",
     "text": [
      "Enter a number :56\n"
     ]
    }
   ],
   "source": [
    "x = input(\"Enter a number :\")"
   ]
  },
  {
   "cell_type": "code",
   "execution_count": 3,
   "id": "53f9f466",
   "metadata": {},
   "outputs": [
    {
     "data": {
      "text/plain": [
       "True"
      ]
     },
     "execution_count": 3,
     "metadata": {},
     "output_type": "execute_result"
    }
   ],
   "source": [
    "isinstance(x,str)"
   ]
  },
  {
   "cell_type": "code",
   "execution_count": 4,
   "id": "9def50e4",
   "metadata": {},
   "outputs": [
    {
     "data": {
      "text/plain": [
       "str"
      ]
     },
     "execution_count": 4,
     "metadata": {},
     "output_type": "execute_result"
    }
   ],
   "source": [
    "type(x)"
   ]
  },
  {
   "cell_type": "markdown",
   "id": "8b05740a",
   "metadata": {},
   "source": [
    "To make x to an interger, we assign it as int(x). Check below."
   ]
  },
  {
   "cell_type": "code",
   "execution_count": 5,
   "id": "fe37ac97",
   "metadata": {},
   "outputs": [],
   "source": [
    "x = int(x)"
   ]
  },
  {
   "cell_type": "code",
   "execution_count": 6,
   "id": "b029a032",
   "metadata": {},
   "outputs": [
    {
     "name": "stdout",
     "output_type": "stream",
     "text": [
      "22\n"
     ]
    }
   ],
   "source": [
    "print(x-34)"
   ]
  },
  {
   "cell_type": "code",
   "execution_count": 1,
   "id": "259e4383",
   "metadata": {},
   "outputs": [
    {
     "name": "stdout",
     "output_type": "stream",
     "text": [
      "Interactive namespace is empty.\n"
     ]
    }
   ],
   "source": [
    "%whos"
   ]
  },
  {
   "cell_type": "markdown",
   "id": "ac575e7b",
   "metadata": {},
   "source": [
    "if you would like to be specific of the type of data that one should input, you can specify in the command as below."
   ]
  },
  {
   "cell_type": "code",
   "execution_count": 2,
   "id": "5d26babf",
   "metadata": {},
   "outputs": [
    {
     "name": "stdout",
     "output_type": "stream",
     "text": [
      "Enter a real number : 12.5\n"
     ]
    }
   ],
   "source": [
    "b = float(input(\"Enter a real number : \"))"
   ]
  },
  {
   "cell_type": "code",
   "execution_count": 12,
   "id": "50ede7e8",
   "metadata": {},
   "outputs": [
    {
     "data": {
      "text/plain": [
       "float"
      ]
     },
     "execution_count": 12,
     "metadata": {},
     "output_type": "execute_result"
    }
   ],
   "source": [
    "type(b)"
   ]
  },
  {
   "cell_type": "code",
   "execution_count": 13,
   "id": "e81ea80c",
   "metadata": {},
   "outputs": [
    {
     "name": "stdout",
     "output_type": "stream",
     "text": [
      " Enter a real number :12\n"
     ]
    }
   ],
   "source": [
    "b = float(input(\" Enter a real number :\"))"
   ]
  },
  {
   "cell_type": "code",
   "execution_count": 14,
   "id": "655ed7e0",
   "metadata": {},
   "outputs": [
    {
     "name": "stdout",
     "output_type": "stream",
     "text": [
      " Enter a real number :abc\n"
     ]
    },
    {
     "ename": "ValueError",
     "evalue": "could not convert string to float: 'abc'",
     "output_type": "error",
     "traceback": [
      "\u001b[1;31m---------------------------------------------------------------------------\u001b[0m",
      "\u001b[1;31mValueError\u001b[0m                                Traceback (most recent call last)",
      "Input \u001b[1;32mIn [14]\u001b[0m, in \u001b[0;36m<cell line: 1>\u001b[1;34m()\u001b[0m\n\u001b[1;32m----> 1\u001b[0m b \u001b[38;5;241m=\u001b[39m \u001b[38;5;28;43mfloat\u001b[39;49m\u001b[43m(\u001b[49m\u001b[38;5;28;43minput\u001b[39;49m\u001b[43m(\u001b[49m\u001b[38;5;124;43m\"\u001b[39;49m\u001b[38;5;124;43m Enter a real number :\u001b[39;49m\u001b[38;5;124;43m\"\u001b[39;49m\u001b[43m)\u001b[49m\u001b[43m)\u001b[49m\n",
      "\u001b[1;31mValueError\u001b[0m: could not convert string to float: 'abc'"
     ]
    }
   ],
   "source": [
    "b = float(input(\" Enter a real number :\"))"
   ]
  },
  {
   "cell_type": "markdown",
   "id": "841096df",
   "metadata": {},
   "source": [
    "The above returns error since abc is not a float and cannot be converted to a float."
   ]
  },
  {
   "cell_type": "markdown",
   "id": "7dde999b",
   "metadata": {},
   "source": [
    "We have discussed the below functions - round \n",
    "                                        divmod (//- floordivision, %- mod)\n",
    "                                        isinstance\n",
    "                                        pow(**)\n",
    "                                        input"
   ]
  },
  {
   "cell_type": "markdown",
   "id": "1ee6269b",
   "metadata": {},
   "source": [
    "NOTE: If you don't know the function of a specifc function, you can ask by placing a ? after the function and information of how to use it will be displayed below.Check below example.\n",
    "If you would need more information, use double ?? Or use the help function."
   ]
  },
  {
   "cell_type": "code",
   "execution_count": 16,
   "id": "19162a00",
   "metadata": {},
   "outputs": [],
   "source": [
    "pow?"
   ]
  },
  {
   "cell_type": "code",
   "execution_count": 17,
   "id": "e21c2490",
   "metadata": {},
   "outputs": [
    {
     "name": "stdout",
     "output_type": "stream",
     "text": [
      "Help on built-in function pow in module builtins:\n",
      "\n",
      "pow(base, exp, mod=None)\n",
      "    Equivalent to base**exp with 2 arguments or base**exp % mod with 3 arguments\n",
      "    \n",
      "    Some types, such as ints, are able to use a more efficient algorithm when\n",
      "    invoked using the three argument form.\n",
      "\n"
     ]
    }
   ],
   "source": [
    "help(pow)"
   ]
  },
  {
   "cell_type": "markdown",
   "id": "ab014feb",
   "metadata": {},
   "source": [
    "## CONTROL FLOW"
   ]
  },
  {
   "cell_type": "markdown",
   "id": "10c58159",
   "metadata": {},
   "source": [
    "##IFCONDITION"
   ]
  },
  {
   "cell_type": "code",
   "execution_count": 19,
   "id": "591ee132",
   "metadata": {},
   "outputs": [
    {
     "name": "stdout",
     "output_type": "stream",
     "text": [
      "12\n",
      "10\n",
      "12\n",
      " I am still inside if condition\n",
      " I am outside the if condition\n"
     ]
    }
   ],
   "source": [
    "a = int(input())\n",
    "b = int(input())\n",
    "if a>b:\n",
    "    print(a)\n",
    "    print(\" I am still inside if condition\")\n",
    "print( \" I am outside the if condition\")    "
   ]
  },
  {
   "cell_type": "code",
   "execution_count": 20,
   "id": "47381a50",
   "metadata": {},
   "outputs": [
    {
     "name": "stdout",
     "output_type": "stream",
     "text": [
      "10\n",
      "45\n",
      " I am outside the if condition\n"
     ]
    }
   ],
   "source": [
    "a = int(input())\n",
    "b = int(input())\n",
    "if a>b:\n",
    "    print(a)\n",
    "    print(\" I am still inside the if condition\")\n",
    "print(\" I am outside the if condition\")    "
   ]
  },
  {
   "cell_type": "markdown",
   "id": "cb51fb10",
   "metadata": {},
   "source": [
    "Notice the importance of the alignment to determine whether a statement is in the if condition or not."
   ]
  },
  {
   "cell_type": "code",
   "execution_count": 21,
   "id": "1a46bcca",
   "metadata": {},
   "outputs": [
    {
     "name": "stdout",
     "output_type": "stream",
     "text": [
      "45\n",
      "60\n",
      "60\n"
     ]
    }
   ],
   "source": [
    "a = int(input())\n",
    "b = int(input())\n",
    "if a>b:\n",
    "    print(a)\n",
    "if b>a:\n",
    "    print(b)"
   ]
  },
  {
   "cell_type": "markdown",
   "id": "f4953da6",
   "metadata": {},
   "source": [
    "##IF-ELSE"
   ]
  },
  {
   "cell_type": "code",
   "execution_count": 24,
   "id": "d79ff161",
   "metadata": {},
   "outputs": [
    {
     "name": "stdout",
     "output_type": "stream",
     "text": [
      "10\n",
      "6\n",
      "10\n"
     ]
    }
   ],
   "source": [
    "a = int(input())\n",
    "b = int(input())\n",
    "if a>b:\n",
    "    print(a)\n",
    "else:\n",
    "    print(b)"
   ]
  },
  {
   "cell_type": "markdown",
   "id": "f91cb48a",
   "metadata": {},
   "source": [
    "#iF-elif-else"
   ]
  },
  {
   "cell_type": "code",
   "execution_count": 25,
   "id": "1a49a78d",
   "metadata": {},
   "outputs": [
    {
     "name": "stdout",
     "output_type": "stream",
     "text": [
      "B\n",
      "Not in if\n"
     ]
    }
   ],
   "source": [
    "a = 1\n",
    "b = 10\n",
    "if a==b:\n",
    "    print(\" Equal\")\n",
    "elif a>b:\n",
    "    print(\"A\")\n",
    "else:\n",
    "    print(\"B\")\n",
    "print (\"Not in if\")    "
   ]
  },
  {
   "cell_type": "code",
   "execution_count": 28,
   "id": "c5347d4e",
   "metadata": {},
   "outputs": [
    {
     "name": "stdout",
     "output_type": "stream",
     "text": [
      " Enter Marks :67\n",
      "Below Average\n"
     ]
    }
   ],
   "source": [
    "a = int(input(\" Enter Marks :\"))\n",
    "if a>85:\n",
    "    print(\"A Grade\")\n",
    "elif (a < 85) and (a>=80): \n",
    "     print(\"A- Grade\")\n",
    "elif (a < 80) and (a>=75):\n",
    "    print(\"B Grade\")\n",
    "elif (a<75) and (a>= 70):\n",
    "    print(\"B- Grade\")\n",
    "else:\n",
    "    print (\"Below Average\")"
   ]
  },
  {
   "cell_type": "markdown",
   "id": "da9a1555",
   "metadata": {},
   "source": [
    "You can also implement \"else\" using \"elif not\""
   ]
  },
  {
   "cell_type": "code",
   "execution_count": 33,
   "id": "36a2c69f",
   "metadata": {},
   "outputs": [
    {
     "name": "stdout",
     "output_type": "stream",
     "text": [
      " not great\n"
     ]
    }
   ],
   "source": [
    "a = 3\n",
    "if a > 5:\n",
    "    print(a)\n",
    "elif not (a>5):\n",
    "    print(\" not great\")"
   ]
  },
  {
   "cell_type": "markdown",
   "id": "a8e47bc1",
   "metadata": {},
   "source": [
    "#Nestedif (if condition inside another if condition)"
   ]
  },
  {
   "cell_type": "code",
   "execution_count": 8,
   "id": "e03f1b9d",
   "metadata": {},
   "outputs": [
    {
     "name": "stdout",
     "output_type": "stream",
     "text": [
      "23\n",
      ">10\n",
      "Inside the top if\n",
      ">20\n",
      "Inside the nested if\n",
      "Outside all ifs\n"
     ]
    }
   ],
   "source": [
    "a = int(input())\n",
    "if a>10:\n",
    "    print(\">10\")\n",
    "    print(\"Inside the top if\")\n",
    "    if a >20:\n",
    "        print(\">20\")\n",
    "        print(\"Inside the nested if\")\n",
    "    else:\n",
    "        print(\"<=20\")\n",
    "        print(\"Inside the Else part of nested if\")\n",
    "print(\"Outside all ifs\")        \n"
   ]
  },
  {
   "cell_type": "markdown",
   "id": "a3859bca",
   "metadata": {},
   "source": [
    "Focus on the power of INDENTATION i.e., the position of 'if' and 'else' where they are at in the code."
   ]
  },
  {
   "cell_type": "code",
   "execution_count": 9,
   "id": "39a06c3b",
   "metadata": {},
   "outputs": [
    {
     "data": {
      "text/plain": [
       "'\\nWe use the pair of 3 qoutes to write a multi-line comment.\\n'"
      ]
     },
     "execution_count": 9,
     "metadata": {},
     "output_type": "execute_result"
    }
   ],
   "source": [
    "# single line comment in code\n",
    "\"\"\"\n",
    "We use the pair of 3 qoutes to write a multi-line comment.\n",
    "\"\"\""
   ]
  },
  {
   "cell_type": "code",
   "execution_count": 17,
   "id": "05fed572",
   "metadata": {},
   "outputs": [
    {
     "name": "stdout",
     "output_type": "stream",
     "text": [
      "Enter a real number :22.6\n",
      "Even\n",
      "22\n"
     ]
    }
   ],
   "source": [
    "\"\"\"\n",
    "User will enter a floating point number lets say 238.915. Your task is\n",
    "to find out the interger portion before the point (in this case 238) and\n",
    "then check if the interger portion is an even number or not\n",
    "\"\"\"\n",
    "\n",
    "x = float(input(\"Enter a real number :\"))\n",
    "y = round(x)\n",
    "if x>0:\n",
    "    if y>x:\n",
    "        intportion = y-1\n",
    "    else:\n",
    "        intportion = y\n",
    "else:    \n",
    "    if y<x:\n",
    "        intportion = y+1\n",
    "    else:\n",
    "        intportion=y \n",
    "        \n",
    "if intportion%2 == 0:    \n",
    "    print(\"Even\")\n",
    "else:\n",
    "    print(\"Odd\")\n",
    "print(intportion)    \n"
   ]
  },
  {
   "cell_type": "markdown",
   "id": "7f65eaef",
   "metadata": {},
   "source": [
    "# CONTROL FLOW (Loops)"
   ]
  },
  {
   "cell_type": "code",
   "execution_count": 1,
   "id": "78edadba",
   "metadata": {},
   "outputs": [
    {
     "name": "stdout",
     "output_type": "stream",
     "text": [
      "5\n",
      "1\n",
      "This is iteration number : 1\n",
      "4\n",
      "This is iteration number : 2\n",
      "9\n",
      "This is iteration number : 3\n",
      "16\n",
      "This is iteration number : 4\n",
      " Loop done\n"
     ]
    }
   ],
   "source": [
    "n = int(input())\n",
    "i = 1\n",
    "while i < n:\n",
    "    print(i**2)\n",
    "    print( \"This is iteration number :\", i)\n",
    "    i+=1 # i = i+1\n",
    "print(\" Loop done\")    "
   ]
  },
  {
   "cell_type": "markdown",
   "id": "a982e04e",
   "metadata": {},
   "source": [
    "\"break\" - whenever a break statement is encountered/ executed inside the loop, it means to exit the loop immediately and brings you outside the body of the loop, regardless of other statements.\n",
    "\n",
    "\"continue\" - Once Continue is executed, no matter how many statements are there onwards in the body of the loop, the loop will not finish its iterations by going thru the remaining statements but it will start another iteration immediately.\n",
    "\n",
    "\"True\" - True means always run , always "
   ]
  },
  {
   "cell_type": "code",
   "execution_count": 2,
   "id": "4bb7b35c",
   "metadata": {},
   "outputs": [
    {
     "name": "stdout",
     "output_type": "stream",
     "text": [
      "Inside else\n",
      "Inside else\n",
      "Inside else\n",
      "Inside else\n",
      "Inside else\n",
      "Inside else\n",
      "Inside else\n",
      "Inside else\n",
      "Inside if\n",
      "done\n"
     ]
    }
   ],
   "source": [
    " n = 10\n",
    "i = 1\n",
    "while True:\n",
    "    if i%9 == 0:\n",
    "        print(\"Inside if\")\n",
    "        break\n",
    "    else:\n",
    "        print(\"Inside else\")\n",
    "        i = i+1 #i+=1\n",
    "print(\"done\")        "
   ]
  },
  {
   "cell_type": "code",
   "execution_count": 1,
   "id": "f9d2b0d2",
   "metadata": {},
   "outputs": [
    {
     "name": "stdout",
     "output_type": "stream",
     "text": [
      "inside if\n",
      "inside if\n",
      "inside if\n",
      "inside if\n",
      "inside if\n",
      "inside if\n",
      "inside if\n",
      "inside if\n",
      "Something\n",
      "Something else\n",
      "done\n"
     ]
    }
   ],
   "source": [
    "n = 10\n",
    "i = 1\n",
    "while True:\n",
    "    if i%9 != 0:\n",
    "        print(\"inside if\")\n",
    "        i +=1\n",
    "        continue\n",
    "    print(\"Something\")\n",
    "    print(\"Something else\")\n",
    "    break\n",
    "    \n",
    "print(\"done\")"
   ]
  },
  {
   "cell_type": "markdown",
   "id": "1e693ea9",
   "metadata": {},
   "source": [
    "Control(for loop)\n",
    "List - a list is a collection of a number of elements. You can add (append) more elements in a list and even delete elements in a list."
   ]
  },
  {
   "cell_type": "code",
   "execution_count": 2,
   "id": "7c11af29",
   "metadata": {},
   "outputs": [
    {
     "name": "stdout",
     "output_type": "stream",
     "text": [
      "1\n",
      "2\n",
      "3\n",
      "4\n",
      "5\n",
      "6\n",
      "7\n",
      "8\n",
      "9\n",
      "10\n",
      "[0, 1, 4, 9, 16, 25, 36, 49, 64, 81]\n"
     ]
    }
   ],
   "source": [
    "L = []\n",
    "for i in range(10):\n",
    "    print(i+1)\n",
    "    L.append(i**2)\n",
    "print(L)   "
   ]
  },
  {
   "cell_type": "code",
   "execution_count": 3,
   "id": "abc81fad",
   "metadata": {},
   "outputs": [
    {
     "name": "stdout",
     "output_type": "stream",
     "text": [
      "0\n",
      "2\n",
      "4\n",
      "6\n",
      "8\n",
      "[0, 4, 16, 36, 64]\n"
     ]
    }
   ],
   "source": [
    "L = []\n",
    "for i in range(0,10,2):\n",
    "    print(i)\n",
    "    L.append(i**2)\n",
    "print(L)   "
   ]
  },
  {
   "cell_type": "markdown",
   "id": "184ffb4a",
   "metadata": {},
   "source": [
    "List - list is defined by []\n",
    "Set - set can have different types of data type , int, str,float, and denoted by {}"
   ]
  },
  {
   "cell_type": "code",
   "execution_count": 6,
   "id": "0c742335",
   "metadata": {},
   "outputs": [
    {
     "name": "stdout",
     "output_type": "stream",
     "text": [
      "cherry\n",
      "apple\n",
      "4.9\n",
      "Loop terminates with success\n",
      "Out side the loop\n"
     ]
    }
   ],
   "source": [
    "#Else for loop\n",
    "s = {\"apple\",4.9,\"cherry\"}\n",
    "for x in s:\n",
    "    print(x)\n",
    "else:\n",
    "    print(\"Loop terminates with success\")\n",
    "print(\"Out side the loop\")"
   ]
  },
  {
   "cell_type": "code",
   "execution_count": 13,
   "id": "d75cbbf0",
   "metadata": {},
   "outputs": [
    {
     "name": "stdout",
     "output_type": "stream",
     "text": [
      "cherry\n",
      "apple\n",
      "4.9\n",
      "Out side the loop\n"
     ]
    }
   ],
   "source": [
    "s = {\"apple\",4.9,\"cherry\"}\n",
    "i = 0\n",
    "for x in s:\n",
    "    print(x)\n",
    "    i+=1\n",
    "    if i==3:\n",
    "        break\n",
    "    else:\n",
    "        pass\n",
    "else:\n",
    "    print(\"Loop terminates with success\")\n",
    "print(\"Out side the loop\")"
   ]
  },
  {
   "cell_type": "markdown",
   "id": "5cd4390b",
   "metadata": {},
   "source": [
    "else in for loop, means just print the statement after code has run, the else is different like the one in the other kind of loops. Advisable to avoid else when in for loop."
   ]
  },
  {
   "cell_type": "markdown",
   "id": "31b3bde0",
   "metadata": {},
   "source": [
    "For loops is good to use in a dictionary."
   ]
  },
  {
   "cell_type": "code",
   "execution_count": 15,
   "id": "b093158f",
   "metadata": {},
   "outputs": [
    {
     "name": "stdout",
     "output_type": "stream",
     "text": [
      "A 10\n",
      "B -19\n",
      "C abc\n"
     ]
    }
   ],
   "source": [
    "D = {\"A\":10,\"B\":-19,\"C\":\"abc\"}\n",
    "for x in D:\n",
    "    print(x,D[x])"
   ]
  },
  {
   "cell_type": "markdown",
   "id": "a0e1d442",
   "metadata": {},
   "source": [
    "# Solving Problems with loops"
   ]
  },
  {
   "cell_type": "code",
   "execution_count": 16,
   "id": "8b3af9d4",
   "metadata": {},
   "outputs": [],
   "source": [
    "\"\"\"\n",
    "Given a list of numbers i.e. [1,2,4,-5,7,9,3,2], make another list that contains\n",
    "all the items in sorted order from min to max. i.e. your result will be another \n",
    "list like [-5,1,2,2,3,3,7,9]\n",
    "\"\"\"\n",
    "L = [1,2,4,-5,7,9,3,2]"
   ]
  },
  {
   "cell_type": "code",
   "execution_count": 1,
   "id": "604d189d",
   "metadata": {},
   "outputs": [
    {
     "name": "stdout",
     "output_type": "stream",
     "text": [
      "[-5, 2, 4, 1, 7, 9, 3, 2]\n"
     ]
    }
   ],
   "source": [
    "L = [1,2,4,-5,7,9,3,2]\n",
    "for j in range(len(L)):\n",
    "    m = L[j]\n",
    "    idx = j  #idx means identification\n",
    "    c = j\n",
    "    for i in range(len(L)):\n",
    "        if L[i]<m:\n",
    "            m = L[i]\n",
    "            idx = c\n",
    "        c=c+1 \n",
    "    tmp = L[j]  \n",
    "    L[j] = m\n",
    "    L[idx] = tmp\n",
    "print(L)    \n",
    "    "
   ]
  },
  {
   "cell_type": "code",
   "execution_count": 2,
   "id": "82adcfbe",
   "metadata": {},
   "outputs": [
    {
     "name": "stdout",
     "output_type": "stream",
     "text": [
      "-5\n"
     ]
    }
   ],
   "source": [
    "#How to get one minimum value from the list\n",
    "L = [1,2,4,-5,7,9,3,2]\n",
    "\n",
    "m = L[0]\n",
    "for i in L:\n",
    "    if i<m:\n",
    "        m = i\n",
    "print(m)        "
   ]
  },
  {
   "cell_type": "code",
   "execution_count": null,
   "id": "71734cbd",
   "metadata": {},
   "outputs": [],
   "source": []
  },
  {
   "cell_type": "code",
   "execution_count": null,
   "id": "8a76e1ba",
   "metadata": {},
   "outputs": [],
   "source": []
  },
  {
   "cell_type": "code",
   "execution_count": null,
   "id": "c0e3f9f8",
   "metadata": {},
   "outputs": [],
   "source": []
  },
  {
   "cell_type": "markdown",
   "id": "b5a3399e",
   "metadata": {},
   "source": [
    "# FUNCTIONS\n",
    "\n",
    "How to build our own functions and how to call for functions. While building functions, include explanation (Document string \"\"\" ...\"\"\") of the function. \n",
    "We shall study how to:-\n",
    "           - Input arguments in functions. A function can have either single or multiple arguments. Also to note, \n",
    "           - Is the order of inputs arguments, \n",
    "           - The scope of the variables in a function (accessing variables inside the function, and variables outside the function),\n",
    "           - The  return statement in a  function (has 2 purposes, it returns a variable assigned and also acts as a break statement as in loops).\n",
    "           - How to input a variable (arbitrary) number of input arguments (*).\n",
    "           - Order of input arguments when dealing with an arbirtrary number of input arguments (**)\n",
    "           - Default values in functions.\n",
    "           - Modules ( A module is a python file that contains a code(s)/ a number of functions that can be used anywhere."
   ]
  },
  {
   "cell_type": "code",
   "execution_count": 1,
   "id": "8cfa4269",
   "metadata": {},
   "outputs": [],
   "source": [
    "#Function with multiple input arguments and with a document string\n",
    "\n",
    "def mypow(a,b):\n",
    "    \"\"\" this function computes power just like the builtin pow function\"\"\"\n",
    "    c = a**b\n",
    "    print(c)"
   ]
  },
  {
   "cell_type": "code",
   "execution_count": 2,
   "id": "c3740110",
   "metadata": {},
   "outputs": [],
   "source": [
    "#how to check information about the function, use ?\n",
    "\n",
    "mypow?"
   ]
  },
  {
   "cell_type": "code",
   "execution_count": 3,
   "id": "02b03509",
   "metadata": {},
   "outputs": [],
   "source": [
    "mypow??"
   ]
  },
  {
   "cell_type": "code",
   "execution_count": 4,
   "id": "bd7de8c9",
   "metadata": {},
   "outputs": [
    {
     "name": "stdout",
     "output_type": "stream",
     "text": [
      "8\n"
     ]
    }
   ],
   "source": [
    "mypow(2,3)"
   ]
  },
  {
   "cell_type": "code",
   "execution_count": 7,
   "id": "9f651338",
   "metadata": {},
   "outputs": [],
   "source": [
    "#function with multiple arguments,i.e, 3 in this case.\n",
    "\n",
    "def checkArgs(a,b,c):\n",
    "    if isinstance(a,(int,float)) and isinstance(b,(int,float)) and isinstance(c,(int,float)):\n",
    "        print((a+b+c)**2)\n",
    "    else:\n",
    "        print(\"Error: the input arguments are not of the expected types\")"
   ]
  },
  {
   "cell_type": "code",
   "execution_count": 8,
   "id": "a02846e8",
   "metadata": {},
   "outputs": [
    {
     "name": "stdout",
     "output_type": "stream",
     "text": [
      "144\n"
     ]
    }
   ],
   "source": [
    "checkArgs(3,4,5)"
   ]
  },
  {
   "cell_type": "code",
   "execution_count": 10,
   "id": "ea4f0313",
   "metadata": {},
   "outputs": [
    {
     "name": "stdout",
     "output_type": "stream",
     "text": [
      "Error: the input arguments are not of the expected types\n"
     ]
    }
   ],
   "source": [
    "checkArgs(3,4,\"g\")"
   ]
  },
  {
   "cell_type": "code",
   "execution_count": 11,
   "id": "7832616d",
   "metadata": {},
   "outputs": [
    {
     "ename": "TypeError",
     "evalue": "checkArgs() missing 1 required positional argument: 'c'",
     "output_type": "error",
     "traceback": [
      "\u001b[1;31m---------------------------------------------------------------------------\u001b[0m",
      "\u001b[1;31mTypeError\u001b[0m                                 Traceback (most recent call last)",
      "Input \u001b[1;32mIn [11]\u001b[0m, in \u001b[0;36m<cell line: 3>\u001b[1;34m()\u001b[0m\n\u001b[0;32m      1\u001b[0m \u001b[38;5;66;03m#if you call this function by more or less than the no. of arguments in the function it errors\u001b[39;00m\n\u001b[1;32m----> 3\u001b[0m \u001b[43mcheckArgs\u001b[49m\u001b[43m(\u001b[49m\u001b[38;5;241;43m2\u001b[39;49m\u001b[43m,\u001b[49m\u001b[38;5;241;43m3\u001b[39;49m\u001b[43m)\u001b[49m\n",
      "\u001b[1;31mTypeError\u001b[0m: checkArgs() missing 1 required positional argument: 'c'"
     ]
    }
   ],
   "source": [
    "#if you call this function by more or less than the no. of arguments in the function it errors\n",
    "\n",
    "checkArgs(2,3)"
   ]
  },
  {
   "cell_type": "code",
   "execution_count": 12,
   "id": "146c93f2",
   "metadata": {},
   "outputs": [],
   "source": [
    "###Order of input Arguments"
   ]
  },
  {
   "cell_type": "code",
   "execution_count": 13,
   "id": "cf6fbf7c",
   "metadata": {},
   "outputs": [],
   "source": [
    "def f(a,b,c):\n",
    "    print(\"A is :\",a)\n",
    "    print(\"B is:\",b)\n",
    "    print(\"C is:\",c)"
   ]
  },
  {
   "cell_type": "code",
   "execution_count": 14,
   "id": "42f17acc",
   "metadata": {},
   "outputs": [
    {
     "name": "stdout",
     "output_type": "stream",
     "text": [
      "A is : 2\n",
      "B is: 3\n",
      "C is: game\n"
     ]
    }
   ],
   "source": [
    "f(2,3,\"game\")"
   ]
  },
  {
   "cell_type": "markdown",
   "id": "a99aa20b",
   "metadata": {},
   "source": [
    "#Ahead, we will see how using ** helps in ensuring the order of an abitrary no. of inputs in a function is well ordered."
   ]
  },
  {
   "cell_type": "code",
   "execution_count": 15,
   "id": "0e660642",
   "metadata": {},
   "outputs": [],
   "source": [
    "##Scope of Variables"
   ]
  },
  {
   "cell_type": "markdown",
   "id": "460a37e4",
   "metadata": {},
   "source": [
    "lets check that if a variable is defined inside the function is it available outside the function and if a variable is defined outside the function, is it available inside the function"
   ]
  },
  {
   "cell_type": "code",
   "execution_count": 16,
   "id": "33398876",
   "metadata": {},
   "outputs": [],
   "source": [
    "variableoutsidethefunction = 3"
   ]
  },
  {
   "cell_type": "code",
   "execution_count": 17,
   "id": "85d13e04",
   "metadata": {},
   "outputs": [],
   "source": [
    "def g():\n",
    "    print(variableoutsidethefunction)"
   ]
  },
  {
   "cell_type": "markdown",
   "id": "30a1c267",
   "metadata": {},
   "source": [
    "\"\"\" when we call the function g(), the variable outside the function will be accessed since it is global i.e, it is out there. However when there is another similar variable defined inside the function as we will see in another example, when we call g(), the variable that will be used is the one defined inside the function and after that is used, calling g() again will use the variable defined outside the function , since the one inside the function vanishes after being used\"\"\""
   ]
  },
  {
   "cell_type": "code",
   "execution_count": 18,
   "id": "705f0013",
   "metadata": {},
   "outputs": [
    {
     "name": "stdout",
     "output_type": "stream",
     "text": [
      "3\n"
     ]
    }
   ],
   "source": [
    "g()"
   ]
  },
  {
   "cell_type": "code",
   "execution_count": 19,
   "id": "28248f70",
   "metadata": {},
   "outputs": [],
   "source": [
    "def g():\n",
    "    variableoutsidethefunction = 5\n",
    "    print(variableoutsidethefunction)"
   ]
  },
  {
   "cell_type": "code",
   "execution_count": 20,
   "id": "ce0fcaa9",
   "metadata": {},
   "outputs": [
    {
     "name": "stdout",
     "output_type": "stream",
     "text": [
      "5\n"
     ]
    }
   ],
   "source": [
    "g()"
   ]
  },
  {
   "cell_type": "code",
   "execution_count": 24,
   "id": "d713592e",
   "metadata": {},
   "outputs": [
    {
     "name": "stdout",
     "output_type": "stream",
     "text": [
      "3\n"
     ]
    }
   ],
   "source": [
    "print(variableoutsidethefunction)"
   ]
  },
  {
   "cell_type": "code",
   "execution_count": 23,
   "id": "0fc1d90f",
   "metadata": {},
   "outputs": [
    {
     "name": "stdout",
     "output_type": "stream",
     "text": [
      "5\n"
     ]
    }
   ],
   "source": [
    "g()"
   ]
  },
  {
   "cell_type": "code",
   "execution_count": 25,
   "id": "37e5fa83",
   "metadata": {},
   "outputs": [],
   "source": [
    "#Returnstatement"
   ]
  },
  {
   "cell_type": "markdown",
   "id": "3dcfcc14",
   "metadata": {},
   "source": [
    "The return statement in a function (has 2 purposes, it returns a variable assigned and also acts as a break statement as in loops."
   ]
  },
  {
   "cell_type": "code",
   "execution_count": 26,
   "id": "dc26854f",
   "metadata": {},
   "outputs": [],
   "source": [
    "def h():\n",
    "    print(\"A\")\n",
    "    a = 3\n",
    "    b = 5\n",
    "    c = a+b\n",
    "    print(\"something\")\n",
    "    return\n",
    "    print(\"B\")\n",
    "    print(\"C\")\n",
    "    \n",
    "    "
   ]
  },
  {
   "cell_type": "code",
   "execution_count": 27,
   "id": "12dff389",
   "metadata": {},
   "outputs": [
    {
     "name": "stdout",
     "output_type": "stream",
     "text": [
      "A\n",
      "something\n"
     ]
    }
   ],
   "source": [
    "h()"
   ]
  },
  {
   "cell_type": "code",
   "execution_count": 28,
   "id": "6526ffa7",
   "metadata": {},
   "outputs": [
    {
     "name": "stdout",
     "output_type": "stream",
     "text": [
      "A\n",
      "something\n"
     ]
    },
    {
     "data": {
      "text/plain": [
       "NoneType"
      ]
     },
     "execution_count": 28,
     "metadata": {},
     "output_type": "execute_result"
    }
   ],
   "source": [
    "type(h())"
   ]
  },
  {
   "cell_type": "markdown",
   "id": "153c9ce8",
   "metadata": {},
   "source": [
    "Above we see how the return statement has been used as a Break statement. Any command after the return statement has been rendered useless.\n",
    "\n",
    "Below lets see how the return statement can be used to return a variable assigned"
   ]
  },
  {
   "cell_type": "code",
   "execution_count": 29,
   "id": "7847665f",
   "metadata": {},
   "outputs": [],
   "source": [
    "def h():\n",
    "    print(\"A\")\n",
    "    a = 3\n",
    "    b = 5\n",
    "    c = a+b\n",
    "    print(\"something\")\n",
    "    return c\n",
    "    print(\"B\")\n",
    "    print(\"C\")"
   ]
  },
  {
   "cell_type": "code",
   "execution_count": 30,
   "id": "fe30690e",
   "metadata": {},
   "outputs": [
    {
     "name": "stdout",
     "output_type": "stream",
     "text": [
      "A\n",
      "something\n"
     ]
    },
    {
     "data": {
      "text/plain": [
       "8"
      ]
     },
     "execution_count": 30,
     "metadata": {},
     "output_type": "execute_result"
    }
   ],
   "source": [
    "h()"
   ]
  },
  {
   "cell_type": "markdown",
   "id": "a83d5ba8",
   "metadata": {},
   "source": [
    "Above we can see how the return statement has returned the value of c which is 8"
   ]
  },
  {
   "cell_type": "markdown",
   "id": "bfb676b2",
   "metadata": {},
   "source": [
    "The return statement can return more than one value and values of different types"
   ]
  },
  {
   "cell_type": "code",
   "execution_count": 31,
   "id": "b8e5d327",
   "metadata": {},
   "outputs": [],
   "source": [
    "#How to write functions with an arbitrary no. of arguments. That is,a function with many arguments."
   ]
  },
  {
   "cell_type": "markdown",
   "id": "fd9e5fd0",
   "metadata": {},
   "source": [
    "To write a function with an arbitrary number of arguments (many number of arguments) we use *.\n",
    "\n",
    "Check below."
   ]
  },
  {
   "cell_type": "code",
   "execution_count": 35,
   "id": "127e1062",
   "metadata": {},
   "outputs": [],
   "source": [
    "def myadduniversal(*args):\n",
    "    s = 0\n",
    "    for i in range(len(args)):\n",
    "        s=s+args[i]\n",
    "    return s    "
   ]
  },
  {
   "cell_type": "code",
   "execution_count": 36,
   "id": "6b4e0906",
   "metadata": {},
   "outputs": [
    {
     "name": "stdout",
     "output_type": "stream",
     "text": [
      "93.6\n"
     ]
    }
   ],
   "source": [
    "print (myadduniversal(2,4,5,4.6,78))"
   ]
  },
  {
   "cell_type": "code",
   "execution_count": 37,
   "id": "8bf9933c",
   "metadata": {},
   "outputs": [],
   "source": [
    "#How to ensure there is order of arguments in a function with an abirtrary no. of arguments."
   ]
  },
  {
   "cell_type": "markdown",
   "id": "590bb385",
   "metadata": {},
   "source": [
    "For a function with an abitrary number of arguments, we use ** to ensure that the arguments are well ordered."
   ]
  },
  {
   "cell_type": "code",
   "execution_count": 38,
   "id": "b90d6439",
   "metadata": {},
   "outputs": [],
   "source": [
    "def printallvariablenamesandvalues(**args):\n",
    "    for x in args:\n",
    "        print(\"Variable Name is :\",x, \"And value is :\",args[x])"
   ]
  },
  {
   "cell_type": "code",
   "execution_count": 39,
   "id": "e44fa947",
   "metadata": {},
   "outputs": [
    {
     "name": "stdout",
     "output_type": "stream",
     "text": [
      "Variable Name is : a And value is : 3\n",
      "Variable Name is : b And value is : B\n",
      "Variable Name is : C And value is : 1\n"
     ]
    }
   ],
   "source": [
    "printallvariablenamesandvalues(a=3, b= \"B\",C=1)"
   ]
  },
  {
   "cell_type": "code",
   "execution_count": 40,
   "id": "cd63d70f",
   "metadata": {},
   "outputs": [],
   "source": [
    "#Default Values in Functions"
   ]
  },
  {
   "cell_type": "code",
   "execution_count": 41,
   "id": "8d85f5d5",
   "metadata": {},
   "outputs": [],
   "source": [
    "def gg(s=4):\n",
    "    print(s)"
   ]
  },
  {
   "cell_type": "code",
   "execution_count": 42,
   "id": "fedd4250",
   "metadata": {},
   "outputs": [
    {
     "name": "stdout",
     "output_type": "stream",
     "text": [
      "4\n"
     ]
    }
   ],
   "source": [
    "gg()"
   ]
  },
  {
   "cell_type": "code",
   "execution_count": 43,
   "id": "4f04c3a3",
   "metadata": {},
   "outputs": [
    {
     "name": "stdout",
     "output_type": "stream",
     "text": [
      "56\n"
     ]
    }
   ],
   "source": [
    "gg(56)"
   ]
  },
  {
   "cell_type": "code",
   "execution_count": 44,
   "id": "b7fc57f2",
   "metadata": {},
   "outputs": [
    {
     "name": "stdout",
     "output_type": "stream",
     "text": [
      "[-9, 2, 3]\n"
     ]
    }
   ],
   "source": [
    "L = [1,2,3]\n",
    "L2 = L\n",
    "L2[0] = -9\n",
    "print (L)"
   ]
  },
  {
   "cell_type": "markdown",
   "id": "48077ef8",
   "metadata": {},
   "source": [
    "When a variable is assigned a value in a function, that becomes the default value of the variable, therefore, whenever the variable is called in the code it automatically displays the default value assigned in the function. But when the variable is assigned a different value outside the function, it then displays that assigned value outside the function, but if the variable is called in the code and not assigned a value, then it automatically picks the variable that was assigned in its original function as its value."
   ]
  },
  {
   "cell_type": "code",
   "execution_count": 45,
   "id": "e97c5c62",
   "metadata": {},
   "outputs": [],
   "source": [
    "def ff(L=[1,2]):\n",
    "    for i in L:\n",
    "        print(i)"
   ]
  },
  {
   "cell_type": "code",
   "execution_count": 46,
   "id": "e2d45735",
   "metadata": {},
   "outputs": [
    {
     "name": "stdout",
     "output_type": "stream",
     "text": [
      "1\n",
      "2\n"
     ]
    }
   ],
   "source": [
    "ff()"
   ]
  },
  {
   "cell_type": "code",
   "execution_count": 49,
   "id": "d6abb455",
   "metadata": {},
   "outputs": [
    {
     "name": "stdout",
     "output_type": "stream",
     "text": [
      "12\n",
      "3\n",
      "4\n"
     ]
    }
   ],
   "source": [
    "L2 = [12,3,4]  #As we can see here, we asssigned ff the variable L2, so it willprint L2\n",
    "ff(L2)"
   ]
  },
  {
   "cell_type": "code",
   "execution_count": 50,
   "id": "43319e71",
   "metadata": {},
   "outputs": [
    {
     "name": "stdout",
     "output_type": "stream",
     "text": [
      "1\n",
      "2\n"
     ]
    }
   ],
   "source": [
    "ff()  #Here, ff was not assigned, as a resu;t it printed 1,2 , values that were initially assigned in its function."
   ]
  },
  {
   "cell_type": "markdown",
   "id": "90353b02",
   "metadata": {},
   "source": [
    "Modules.\n",
    "A module is a python file that contains a number of functions with their codes that can be retrived / imported and be used anywhere (any project or programme that one is working on)."
   ]
  },
  {
   "cell_type": "markdown",
   "id": "f9a62eef",
   "metadata": {},
   "source": [
    "We shall also learn how to call/ import a module in a current project."
   ]
  },
  {
   "cell_type": "code",
   "execution_count": 51,
   "id": "731181ca",
   "metadata": {},
   "outputs": [],
   "source": [
    "import sys\n",
    "sys.path.append('C:/abc/')"
   ]
  },
  {
   "cell_type": "code",
   "execution_count": 52,
   "id": "d631fc3e",
   "metadata": {},
   "outputs": [],
   "source": [
    "import my_universal_functions as myfs"
   ]
  },
  {
   "cell_type": "code",
   "execution_count": 54,
   "id": "d860eac3",
   "metadata": {},
   "outputs": [],
   "source": [
    "myfs.addallnumerics??"
   ]
  },
  {
   "cell_type": "code",
   "execution_count": 55,
   "id": "755e76f1",
   "metadata": {},
   "outputs": [],
   "source": [
    "myfs??"
   ]
  },
  {
   "cell_type": "code",
   "execution_count": 56,
   "id": "4cb7e96a",
   "metadata": {},
   "outputs": [
    {
     "data": {
      "text/plain": [
       "15"
      ]
     },
     "execution_count": 56,
     "metadata": {},
     "output_type": "execute_result"
    }
   ],
   "source": [
    "myfs.addallnumerics(2,3,4,6)"
   ]
  },
  {
   "cell_type": "markdown",
   "id": "86fce5d7",
   "metadata": {},
   "source": [
    "If you only want to import a specific function from your module, you do as below. Call the name of your module and state what to import."
   ]
  },
  {
   "cell_type": "code",
   "execution_count": 57,
   "id": "69024cc7",
   "metadata": {},
   "outputs": [],
   "source": [
    "from my_universal_functions import addallnumerics"
   ]
  },
  {
   "cell_type": "code",
   "execution_count": 58,
   "id": "c35254b3",
   "metadata": {},
   "outputs": [
    {
     "name": "stdout",
     "output_type": "stream",
     "text": [
      "27\n"
     ]
    }
   ],
   "source": [
    "d = addallnumerics(2,3,4,5,6,7)\n",
    "print(d)"
   ]
  },
  {
   "cell_type": "code",
   "execution_count": 60,
   "id": "cc04c4f0",
   "metadata": {},
   "outputs": [
    {
     "data": {
      "text/plain": [
       "'Python course'"
      ]
     },
     "execution_count": 60,
     "metadata": {},
     "output_type": "execute_result"
    }
   ],
   "source": [
    "myfs.myName"
   ]
  },
  {
   "cell_type": "code",
   "execution_count": 61,
   "id": "c96e0b18",
   "metadata": {},
   "outputs": [],
   "source": [
    "#PRACTICE FUNCTIONS"
   ]
  },
  {
   "cell_type": "code",
   "execution_count": 6,
   "id": "759f958e",
   "metadata": {},
   "outputs": [],
   "source": [
    "\"\"\"Given a list of numbers i.e. [1,2,4,-5,7,9,3,2], make another list that contains\n",
    "all the items in sorted order from min to max. i.e. your result will be another \n",
    "list like [-5,1,2,2,3,3,7,9]\"\"\"\n",
    "\n",
    "def findMin(L, startIndx):\n",
    "    m = L[startIndx]\n",
    "    idx = startIndx\n",
    "    for i in range(startIndx,len(L)): #means for every element that is in L\n",
    "        x = L[i]\n",
    "        if x<m:\n",
    "            m = x\n",
    "            idx = i\n",
    "        else:\n",
    "            pass\n",
    "        i+=1\n",
    "    return m, idx\n",
    "    "
   ]
  },
  {
   "cell_type": "code",
   "execution_count": 2,
   "id": "19140340",
   "metadata": {},
   "outputs": [],
   "source": [
    "a,b = findMin([2,3,4,0,9])"
   ]
  },
  {
   "cell_type": "code",
   "execution_count": 3,
   "id": "3ca01bce",
   "metadata": {},
   "outputs": [
    {
     "name": "stdout",
     "output_type": "stream",
     "text": [
      "0 3\n"
     ]
    }
   ],
   "source": [
    "print(a,b)"
   ]
  },
  {
   "cell_type": "code",
   "execution_count": 4,
   "id": "0c44e341",
   "metadata": {},
   "outputs": [],
   "source": [
    "def swapValues(L,idx1,idx2):\n",
    "    tmp = L[idx1] #tmp (tempirary variable)\n",
    "    L[idx1] = L[idx2]\n",
    "    L[idx2] = tmp\n",
    "    return L"
   ]
  },
  {
   "cell_type": "code",
   "execution_count": 5,
   "id": "78f5f402",
   "metadata": {},
   "outputs": [
    {
     "name": "stdout",
     "output_type": "stream",
     "text": [
      "[2, 7, 6, 3]\n"
     ]
    }
   ],
   "source": [
    "L = [2,3,6,7]\n",
    "L2 = swapValues(L,1,3)\n",
    "print(L2)"
   ]
  },
  {
   "cell_type": "code",
   "execution_count": 17,
   "id": "8a020596",
   "metadata": {},
   "outputs": [],
   "source": [
    "#Sorting the list\n",
    "from my_universal_functions import checkifnotnumeric\n",
    "\n",
    "def sortlist(L):\n",
    "    if not(checkifnotnumeric2(L)):\n",
    "        print(\" Error: List does not contain numeric values\")\n",
    "        return\n",
    "    else:\n",
    "        c = 0\n",
    "        for x in L:\n",
    "            m,idx = findMin(L,c)\n",
    "            L = swapValues(L,c,idx)\n",
    "            c+=1\n",
    "    return L     "
   ]
  },
  {
   "cell_type": "code",
   "execution_count": 8,
   "id": "703d2c24",
   "metadata": {},
   "outputs": [
    {
     "name": "stdout",
     "output_type": "stream",
     "text": [
      "Object `myfs` not found.\n"
     ]
    }
   ],
   "source": [
    "myfs?"
   ]
  },
  {
   "cell_type": "code",
   "execution_count": 9,
   "id": "9008f9b5",
   "metadata": {},
   "outputs": [],
   "source": [
    "import sys\n",
    "sys.path.append('C:/abc/')"
   ]
  },
  {
   "cell_type": "code",
   "execution_count": 10,
   "id": "6001a592",
   "metadata": {},
   "outputs": [],
   "source": [
    "import my_universal_functions"
   ]
  },
  {
   "cell_type": "code",
   "execution_count": 12,
   "id": "4f3ef920",
   "metadata": {},
   "outputs": [],
   "source": [
    "my_universal_functions??"
   ]
  },
  {
   "cell_type": "code",
   "execution_count": 20,
   "id": "5f8593aa",
   "metadata": {},
   "outputs": [],
   "source": [
    "L2 = sortlist([2,1,5,])"
   ]
  },
  {
   "cell_type": "code",
   "execution_count": 15,
   "id": "b9f5ec51",
   "metadata": {},
   "outputs": [],
   "source": [
    "def checkifnotnumeric2(L):\n",
    "    for x in L:\n",
    "        if not(isinstance(x,(int,float))):\n",
    "            return False\n",
    "    return True   "
   ]
  },
  {
   "cell_type": "code",
   "execution_count": 19,
   "id": "2c284c87",
   "metadata": {},
   "outputs": [
    {
     "name": "stdout",
     "output_type": "stream",
     "text": [
      "[-5, 1, 2, 2, 3, 4, 7, 9]\n"
     ]
    }
   ],
   "source": [
    "L2 = sortlist([1,2,4,-5,7,9,3,2])\n",
    "print(L2)"
   ]
  },
  {
   "cell_type": "code",
   "execution_count": null,
   "id": "67dd8821",
   "metadata": {},
   "outputs": [],
   "source": []
  },
  {
   "cell_type": "markdown",
   "id": "b79267b0",
   "metadata": {},
   "source": [
    "# String"
   ]
  },
  {
   "cell_type": "markdown",
   "id": "55cca137",
   "metadata": {},
   "source": [
    "A string can be denoted by '...' or \"...\"\n",
    "Strings can also be added, i.e.,  they can be combined by the + sign.\n",
    "\n",
    "For a string to be added, the variables have both to be in string form, so to add a str with an int you'll have to chenge the int to a string.\n",
    "E.g. price = 12\n",
    "      s = 'The price of this book'\n",
    "      v = s+ 'is: ' + str(price)  note we had to convert it to a str\n",
    "      print(v)"
   ]
  },
  {
   "cell_type": "code",
   "execution_count": 5,
   "id": "49887a14",
   "metadata": {},
   "outputs": [],
   "source": [
    "price= 12\n",
    "s= 'The price of this book'\n",
    "v= s +' is: '+ str(price)"
   ]
  },
  {
   "cell_type": "code",
   "execution_count": 6,
   "id": "2aa185f9",
   "metadata": {},
   "outputs": [
    {
     "name": "stdout",
     "output_type": "stream",
     "text": [
      "The price of this book is: 12\n"
     ]
    }
   ],
   "source": [
    "print(v)"
   ]
  },
  {
   "cell_type": "code",
   "execution_count": 8,
   "id": "496d2184",
   "metadata": {},
   "outputs": [
    {
     "name": "stdout",
     "output_type": "stream",
     "text": [
      "The price of this book is: 12\n"
     ]
    }
   ],
   "source": [
    "print(s,\"is:\",price) #The print statement creates its own space"
   ]
  },
  {
   "cell_type": "markdown",
   "id": "7ee22b65",
   "metadata": {},
   "source": [
    "A multi line of string lines is denoted by \"\"\" ..... \"\"\""
   ]
  },
  {
   "cell_type": "code",
   "execution_count": 11,
   "id": "b4d521d6",
   "metadata": {},
   "outputs": [
    {
     "data": {
      "text/plain": [
       "' Remember in python, index starts with 0.'"
      ]
     },
     "execution_count": 11,
     "metadata": {},
     "output_type": "execute_result"
    }
   ],
   "source": [
    "#Indexing and Slicing\n",
    "\"\"\" Remember in python, index starts with 0.\"\"\""
   ]
  },
  {
   "cell_type": "code",
   "execution_count": 10,
   "id": "a729c018",
   "metadata": {},
   "outputs": [
    {
     "name": "stdout",
     "output_type": "stream",
     "text": [
      "r\n"
     ]
    }
   ],
   "source": [
    "s = \"How are you and who are you\"\n",
    "print(s[5])"
   ]
  },
  {
   "cell_type": "code",
   "execution_count": 12,
   "id": "21425c75",
   "metadata": {},
   "outputs": [
    {
     "data": {
      "text/plain": [
       "'How are yo'"
      ]
     },
     "execution_count": 12,
     "metadata": {},
     "output_type": "execute_result"
    }
   ],
   "source": [
    "s[0:10] #here the results starts from 0, but does not include the 10th."
   ]
  },
  {
   "cell_type": "markdown",
   "id": "652076b7",
   "metadata": {},
   "source": [
    "We can also have -ve indexing, this means starting from the right to the left."
   ]
  },
  {
   "cell_type": "code",
   "execution_count": 14,
   "id": "f859f75d",
   "metadata": {},
   "outputs": [
    {
     "data": {
      "text/plain": [
       "' who are '"
      ]
     },
     "execution_count": 14,
     "metadata": {},
     "output_type": "execute_result"
    }
   ],
   "source": [
    "s[-12:-3]  #referred to as slicing"
   ]
  },
  {
   "cell_type": "markdown",
   "id": "ebee70bb",
   "metadata": {},
   "source": [
    "A string is immutable, once created it's content cannot be changed."
   ]
  },
  {
   "cell_type": "code",
   "execution_count": 15,
   "id": "6084c395",
   "metadata": {},
   "outputs": [],
   "source": [
    "#Below is the general method of slicing\n",
    "#s[start:end:step]\n",
    "#if you do not mention the start, it'll start from default 0\n",
    "#if you do not mention the end it'll go to the last end\n",
    "#if you do not mention the step/skip, it's default step will be 1"
   ]
  },
  {
   "cell_type": "code",
   "execution_count": 16,
   "id": "32b4bba5",
   "metadata": {},
   "outputs": [
    {
     "data": {
      "text/plain": [
       "'Hwaey'"
      ]
     },
     "execution_count": 16,
     "metadata": {},
     "output_type": "execute_result"
    }
   ],
   "source": [
    "s[0:10:2]"
   ]
  },
  {
   "cell_type": "code",
   "execution_count": 18,
   "id": "85c9590a",
   "metadata": {},
   "outputs": [
    {
     "data": {
      "text/plain": [
       "'How are yo'"
      ]
     },
     "execution_count": 18,
     "metadata": {},
     "output_type": "execute_result"
    }
   ],
   "source": [
    "s[:10]"
   ]
  },
  {
   "cell_type": "code",
   "execution_count": 19,
   "id": "4575f24d",
   "metadata": {},
   "outputs": [
    {
     "data": {
      "text/plain": [
       "' are you and who are you'"
      ]
     },
     "execution_count": 19,
     "metadata": {},
     "output_type": "execute_result"
    }
   ],
   "source": [
    "s[3:]"
   ]
  },
  {
   "cell_type": "code",
   "execution_count": 20,
   "id": "0b6cae65",
   "metadata": {},
   "outputs": [
    {
     "data": {
      "text/plain": [
       "'ow are you '"
      ]
     },
     "execution_count": 20,
     "metadata": {},
     "output_type": "execute_result"
    }
   ],
   "source": [
    "s[1:12]"
   ]
  },
  {
   "cell_type": "code",
   "execution_count": 21,
   "id": "8a490ee1",
   "metadata": {},
   "outputs": [
    {
     "data": {
      "text/plain": [
       "'uoy era ohw dna uoy era woH'"
      ]
     },
     "execution_count": 21,
     "metadata": {},
     "output_type": "execute_result"
    }
   ],
   "source": [
    "s[::-1]"
   ]
  },
  {
   "cell_type": "code",
   "execution_count": 22,
   "id": "51a66b27",
   "metadata": {},
   "outputs": [
    {
     "data": {
      "text/plain": [
       "'uyeaowdauyeawH'"
      ]
     },
     "execution_count": 22,
     "metadata": {},
     "output_type": "execute_result"
    }
   ],
   "source": [
    "s[::-2]"
   ]
  },
  {
   "cell_type": "code",
   "execution_count": 23,
   "id": "ef295f95",
   "metadata": {},
   "outputs": [],
   "source": [
    "#Functions in string\n"
   ]
  },
  {
   "cell_type": "code",
   "execution_count": 24,
   "id": "ef34bf4a",
   "metadata": {},
   "outputs": [
    {
     "name": "stdout",
     "output_type": "stream",
     "text": [
      "are you   here\n"
     ]
    }
   ],
   "source": [
    "a = \"  are you   here  \"\n",
    "b= a.strip()  #this strip function removes spaces before & after the string.\n",
    "print(b)"
   ]
  },
  {
   "cell_type": "code",
   "execution_count": 2,
   "id": "39b3fa37",
   "metadata": {},
   "outputs": [
    {
     "name": "stdout",
     "output_type": "stream",
     "text": [
      "abc defg ;; sadfa qf\n"
     ]
    }
   ],
   "source": [
    "a = \"ABC defg ;; sadfa QF\"\n",
    "b = a.lower() #this turns to lower case every letter in the string.\n",
    "print(b)"
   ]
  },
  {
   "cell_type": "code",
   "execution_count": 3,
   "id": "c529ccd3",
   "metadata": {},
   "outputs": [
    {
     "name": "stdout",
     "output_type": "stream",
     "text": [
      "ABC DEFG ;; SADFA QF\n"
     ]
    }
   ],
   "source": [
    "c = a.upper() #this turns to upper case every letter in the string.\n",
    "print(c)"
   ]
  },
  {
   "cell_type": "code",
   "execution_count": 4,
   "id": "6148aa8a",
   "metadata": {},
   "outputs": [
    {
     "name": "stdout",
     "output_type": "stream",
     "text": [
      "ABC defg ** sadfa QF\n"
     ]
    }
   ],
   "source": [
    "d = a.replace(\";\",\"*\")\n",
    "print(d)"
   ]
  },
  {
   "cell_type": "code",
   "execution_count": 5,
   "id": "a946d557",
   "metadata": {},
   "outputs": [
    {
     "name": "stdout",
     "output_type": "stream",
     "text": [
      "ABC defg $%***$%*** sadfa QF\n"
     ]
    }
   ],
   "source": [
    "d = a. replace(\";\",\"$%***\")\n",
    "print(d)"
   ]
  },
  {
   "cell_type": "code",
   "execution_count": 6,
   "id": "03550978",
   "metadata": {},
   "outputs": [
    {
     "name": "stdout",
     "output_type": "stream",
     "text": [
      "ABC defg two semi colons  sadfa QF\n"
     ]
    }
   ],
   "source": [
    "d = a.replace(\";;\",\"two semi colons \")\n",
    "print(d)"
   ]
  },
  {
   "cell_type": "code",
   "execution_count": 7,
   "id": "d6f87188",
   "metadata": {},
   "outputs": [
    {
     "name": "stdout",
     "output_type": "stream",
     "text": [
      "['abs', 'gjhy', 'qwerty', '12ft']\n"
     ]
    }
   ],
   "source": [
    "a = \"abs;gjhy;qwerty;12ft\"\n",
    "L = a.split(\";\") #The split() function separates/splits according to the sign you want.\n",
    "print(L)"
   ]
  },
  {
   "cell_type": "code",
   "execution_count": 8,
   "id": "99189a7e",
   "metadata": {},
   "outputs": [
    {
     "data": {
      "text/plain": [
       "'qwerty'"
      ]
     },
     "execution_count": 8,
     "metadata": {},
     "output_type": "execute_result"
    }
   ],
   "source": [
    "L[2]"
   ]
  },
  {
   "cell_type": "markdown",
   "id": "623f6a26",
   "metadata": {},
   "source": [
    "So the functions available as seen are\n",
    "a.strip() ,\n",
    "a.lower() ,\n",
    "a.upper() ,\n",
    "a.replace(\" \",\" \") ,\n",
    "a.split(\"\") \n",
    "\n",
    "To check all the functions available in a data type e.g in a string datatype, type the datatype and . then press tab e.g (b.) - this gives you a list of all the available functions to be used in that datatype.\n",
    "If you need knowledge on how a specific function works, you can write the function and ? or use help() see how below."
   ]
  },
  {
   "cell_type": "code",
   "execution_count": 10,
   "id": "d8925875",
   "metadata": {},
   "outputs": [],
   "source": [
    "a.casefold?"
   ]
  },
  {
   "cell_type": "code",
   "execution_count": 11,
   "id": "31ab66a5",
   "metadata": {},
   "outputs": [
    {
     "name": "stdout",
     "output_type": "stream",
     "text": [
      "Help on built-in function casefold:\n",
      "\n",
      "casefold() method of builtins.str instance\n",
      "    Return a version of the string suitable for caseless comparisons.\n",
      "\n"
     ]
    }
   ],
   "source": [
    "help(a.casefold)"
   ]
  },
  {
   "cell_type": "code",
   "execution_count": 14,
   "id": "dafabaee",
   "metadata": {},
   "outputs": [
    {
     "name": "stdout",
     "output_type": "stream",
     "text": [
      "<built-in method casefold of str object at 0x00000285F90C9A70>\n"
     ]
    }
   ],
   "source": [
    "a=\"adgDRhhj\"\n",
    "g= a.casefold\n",
    "print(g)"
   ]
  },
  {
   "cell_type": "markdown",
   "id": "a1468265",
   "metadata": {},
   "source": [
    "in - returns either True or false, whether there is such a value in a string."
   ]
  },
  {
   "cell_type": "code",
   "execution_count": 15,
   "id": "04209a71",
   "metadata": {},
   "outputs": [
    {
     "data": {
      "text/plain": [
       "False"
      ]
     },
     "execution_count": 15,
     "metadata": {},
     "output_type": "execute_result"
    }
   ],
   "source": [
    "\"abc\" in \"anhboksc\""
   ]
  },
  {
   "cell_type": "code",
   "execution_count": 16,
   "id": "7b199fac",
   "metadata": {},
   "outputs": [
    {
     "data": {
      "text/plain": [
       "True"
      ]
     },
     "execution_count": 16,
     "metadata": {},
     "output_type": "execute_result"
    }
   ],
   "source": [
    "\"abcdefgh\" < \"def\""
   ]
  },
  {
   "cell_type": "markdown",
   "id": "99b21012",
   "metadata": {},
   "source": [
    "Use Of Escape correctors\n",
    "\n",
    "Use of \\ and / , this means whatever that is coming infront of it should be used as it is.\n",
    "\n",
    "Another is use of '', single qoutes then use \"\" double qoutes inside.\n",
    "\n",
    "\\n - this puts everything to a new line."
   ]
  },
  {
   "cell_type": "code",
   "execution_count": 17,
   "id": "fdf9154d",
   "metadata": {},
   "outputs": [
    {
     "name": "stdout",
     "output_type": "stream",
     "text": [
      " we are learning \"string\" here\n"
     ]
    }
   ],
   "source": [
    "print(\" we are learning \\\"string\\\" here\")"
   ]
  },
  {
   "cell_type": "code",
   "execution_count": 18,
   "id": "9e696bbf",
   "metadata": {},
   "outputs": [
    {
     "name": "stdout",
     "output_type": "stream",
     "text": [
      "We are learning \"string\" here\n"
     ]
    }
   ],
   "source": [
    "print('We are learning \"string\" here')"
   ]
  },
  {
   "cell_type": "code",
   "execution_count": 19,
   "id": "8db80e9c",
   "metadata": {},
   "outputs": [
    {
     "name": "stdout",
     "output_type": "stream",
     "text": [
      "we are learning \n",
      " now on another line\n"
     ]
    }
   ],
   "source": [
    "print(\"we are learning \\n now on another line\")"
   ]
  },
  {
   "cell_type": "code",
   "execution_count": 23,
   "id": "9b5c139c",
   "metadata": {},
   "outputs": [
    {
     "name": "stdout",
     "output_type": "stream",
     "text": [
      "we are \t now on another line\n"
     ]
    }
   ],
   "source": [
    "print(\"we are \\t now on another line\")"
   ]
  },
  {
   "cell_type": "code",
   "execution_count": null,
   "id": "3e5f117a",
   "metadata": {},
   "outputs": [],
   "source": [
    "#\\t - this gives a tab room.\n",
    "#r use of r, - this tells the code to be treated as it is"
   ]
  },
  {
   "cell_type": "code",
   "execution_count": 24,
   "id": "93da1fdf",
   "metadata": {},
   "outputs": [
    {
     "name": "stdout",
     "output_type": "stream",
     "text": [
      "c:\\name\\drive\n"
     ]
    }
   ],
   "source": [
    "print(r\"c:\\name\\drive\")"
   ]
  },
  {
   "cell_type": "code",
   "execution_count": 26,
   "id": "6af190e6",
   "metadata": {},
   "outputs": [
    {
     "ename": "SyntaxError",
     "evalue": "invalid syntax (4069144712.py, line 1)",
     "output_type": "error",
     "traceback": [
      "\u001b[1;36m  Input \u001b[1;32mIn [26]\u001b[1;36m\u001b[0m\n\u001b[1;33m    print(\"we are learning r\"string\" here\")\u001b[0m\n\u001b[1;37m                             ^\u001b[0m\n\u001b[1;31mSyntaxError\u001b[0m\u001b[1;31m:\u001b[0m invalid syntax\n"
     ]
    }
   ],
   "source": [
    "print(\"we are learning r\"string\" here\")"
   ]
  },
  {
   "cell_type": "markdown",
   "id": "b2307563",
   "metadata": {},
   "source": [
    "# Data Structures"
   ]
  },
  {
   "cell_type": "code",
   "execution_count": 1,
   "id": "49f84de6",
   "metadata": {},
   "outputs": [],
   "source": [
    "#LIST ; Ordered, mutable , duplicates ,[]\n",
    "#TUPLE ; Ordered, immutable, duplicates ()\n",
    "#SET ; Unordered , mutable,  no duplicates {}\n",
    "#DICTIONARY ; Unordered, mutable, no duplicates {}"
   ]
  },
  {
   "cell_type": "code",
   "execution_count": 2,
   "id": "2a6ff037",
   "metadata": {},
   "outputs": [
    {
     "data": {
      "text/plain": [
       "'\\nList                      Tuple                   Set\\nL=[12,\"banana\", 5.3]     T=(12,\"banana\", 5.3)     S={12,\"banana\", 5.3}\\n\\nL[1]                     T[2]                     X in S\\n\\nL= L+[\"game\"]            Immutable                S.add(\"new item\")\\nL[2]= \"orange\"           T3=T1+T2                 S.update({\"more\",\"items\"})\\n\\ndel L[1]                 Immutable                S.Remove(\"banana\")\\ndel L                    del T                     del S\\n\\nL2=L.copy()              T2=T                     S2=S.copy()\\n\\n\\nDictionary\\nD={\"Val\":12, \"name\":\"Ban\"}\\n \\nD[\"Val\"]\\n\\nD[\"Val\"]= newValue\\nD[\"newkey\"]= \"newVal\"\\n\\ndel D[\"Val\"]\\ndel D\\n\\nD2=D.copy()\\n'"
      ]
     },
     "execution_count": 2,
     "metadata": {},
     "output_type": "execute_result"
    }
   ],
   "source": [
    "\"\"\"\n",
    "List                      Tuple                   Set\n",
    "L=[12,\"banana\", 5.3]     T=(12,\"banana\", 5.3)     S={12,\"banana\", 5.3}\n",
    "\n",
    "L[1]                     T[2]                     X in S\n",
    "\n",
    "L= L+[\"game\"]            Immutable                S.add(\"new item\")\n",
    "L[2]= \"orange\"           T3=T1+T2                 S.update({\"more\",\"items\"})\n",
    "\n",
    "del L[1]                 Immutable                S.Remove(\"banana\")\n",
    "del L                    del T                     del S\n",
    "\n",
    "L2=L.copy()              T2=T                     S2=S.copy()\n",
    "\n",
    "\n",
    "Dictionary\n",
    "D={\"Val\":12, \"name\":\"Ban\"}\n",
    " \n",
    "D[\"Val\"]\n",
    "\n",
    "D[\"Val\"]= newValue\n",
    "D[\"newkey\"]= \"newVal\"\n",
    "\n",
    "del D[\"Val\"]\n",
    "del D\n",
    "\n",
    "D2=D.copy()\n",
    "\"\"\""
   ]
  },
  {
   "cell_type": "code",
   "execution_count": 5,
   "id": "6afc7417",
   "metadata": {},
   "outputs": [],
   "source": [
    "L = [1,3,4.9,\"name\",3]\n",
    "T = (1,3,4.9,\"name\",3)\n",
    "S = {1,3,4.9,\"name\",3}\n",
    "D = {23:\"twothree\",'B':43,'C':'CCD'}"
   ]
  },
  {
   "cell_type": "code",
   "execution_count": 4,
   "id": "b09cfde3",
   "metadata": {},
   "outputs": [
    {
     "name": "stdout",
     "output_type": "stream",
     "text": [
      "<class 'list'>\n",
      "<class 'tuple'>\n",
      "<class 'set'>\n",
      "<class 'dict'>\n"
     ]
    }
   ],
   "source": [
    "print(type(L))\n",
    "print(type(T))\n",
    "print(type(S))\n",
    "print(type(D))"
   ]
  },
  {
   "cell_type": "code",
   "execution_count": 5,
   "id": "05aaa660",
   "metadata": {},
   "outputs": [],
   "source": [
    "#Indexing In DataStructures\n",
    "#In Lists = L[1] rememeber it starts from 0 value\n",
    "#In Tuples = T[1]\n",
    "#In Sets = You can use 'in' to check a value in a set\n",
    "#In Dictionary = You call the Dvalue D=[\"Val\"]"
   ]
  },
  {
   "cell_type": "code",
   "execution_count": 6,
   "id": "f9b62484",
   "metadata": {},
   "outputs": [
    {
     "name": "stdout",
     "output_type": "stream",
     "text": [
      "3\n",
      "3\n",
      "True\n",
      "twothree\n"
     ]
    }
   ],
   "source": [
    "print(L[1])\n",
    "print(T[1])\n",
    "print(3 in S)\n",
    "print(D[23])"
   ]
  },
  {
   "cell_type": "code",
   "execution_count": 7,
   "id": "5813eddf",
   "metadata": {},
   "outputs": [
    {
     "data": {
      "text/plain": [
       "{1, 3, 4.9, 'name'}"
      ]
     },
     "execution_count": 7,
     "metadata": {},
     "output_type": "execute_result"
    }
   ],
   "source": [
    "S #Note the 3 won't duplicate"
   ]
  },
  {
   "cell_type": "code",
   "execution_count": 8,
   "id": "7024f08f",
   "metadata": {},
   "outputs": [
    {
     "data": {
      "text/plain": [
       "[1, 3, 4.9, 'name', 3]"
      ]
     },
     "execution_count": 8,
     "metadata": {},
     "output_type": "execute_result"
    }
   ],
   "source": [
    "L"
   ]
  },
  {
   "cell_type": "code",
   "execution_count": 9,
   "id": "b092538e",
   "metadata": {},
   "outputs": [
    {
     "data": {
      "text/plain": [
       "[3, 4.9]"
      ]
     },
     "execution_count": 9,
     "metadata": {},
     "output_type": "execute_result"
    }
   ],
   "source": [
    "L[1:3] #It will include values from L[1] but wont include the L[3]"
   ]
  },
  {
   "cell_type": "code",
   "execution_count": 10,
   "id": "2bdcb824",
   "metadata": {},
   "outputs": [
    {
     "data": {
      "text/plain": [
       "[3, 'name', 4.9, 3, 1]"
      ]
     },
     "execution_count": 10,
     "metadata": {},
     "output_type": "execute_result"
    }
   ],
   "source": [
    "L[::-1] #This means listing the List in reverse"
   ]
  },
  {
   "cell_type": "code",
   "execution_count": 11,
   "id": "35499f73",
   "metadata": {},
   "outputs": [
    {
     "data": {
      "text/plain": [
       "(1, 3, 4.9)"
      ]
     },
     "execution_count": 11,
     "metadata": {},
     "output_type": "execute_result"
    }
   ],
   "source": [
    "T[:3] #This means from the 1st value of the tuple to the T[2] note T[3] wont be included."
   ]
  },
  {
   "cell_type": "code",
   "execution_count": 12,
   "id": "510fc8d3",
   "metadata": {},
   "outputs": [
    {
     "data": {
      "text/plain": [
       "(1, 3, 4.9, 'name', 3)"
      ]
     },
     "execution_count": 12,
     "metadata": {},
     "output_type": "execute_result"
    }
   ],
   "source": [
    "T"
   ]
  },
  {
   "cell_type": "code",
   "execution_count": 13,
   "id": "9a0847ce",
   "metadata": {},
   "outputs": [
    {
     "data": {
      "text/plain": [
       "(4.9, 'name', 3)"
      ]
     },
     "execution_count": 13,
     "metadata": {},
     "output_type": "execute_result"
    }
   ],
   "source": [
    "T[2:] #This means from the T[2] Value to the last value of the tuple"
   ]
  },
  {
   "cell_type": "code",
   "execution_count": 14,
   "id": "038abe79",
   "metadata": {},
   "outputs": [
    {
     "data": {
      "text/plain": [
       "(1, 4.9, 3)"
      ]
     },
     "execution_count": 14,
     "metadata": {},
     "output_type": "execute_result"
    }
   ],
   "source": [
    "T[::2] #This outputs values from the 1st value to the last, with an interval difference of 2,basically skips 1 value"
   ]
  },
  {
   "cell_type": "code",
   "execution_count": 15,
   "id": "3e3be9e1",
   "metadata": {},
   "outputs": [
    {
     "data": {
      "text/plain": [
       "(3, 3)"
      ]
     },
     "execution_count": 15,
     "metadata": {},
     "output_type": "execute_result"
    }
   ],
   "source": [
    "T[::-3] #basically skips 2 values and starts from reverse."
   ]
  },
  {
   "cell_type": "code",
   "execution_count": 16,
   "id": "363f807f",
   "metadata": {},
   "outputs": [],
   "source": [
    "#Mutability whether Mutable or Immutable"
   ]
  },
  {
   "cell_type": "code",
   "execution_count": 17,
   "id": "d9e8955f",
   "metadata": {},
   "outputs": [
    {
     "data": {
      "text/plain": [
       "[1, 3, 4.9, 'name', 3]"
      ]
     },
     "execution_count": 17,
     "metadata": {},
     "output_type": "execute_result"
    }
   ],
   "source": [
    "L"
   ]
  },
  {
   "cell_type": "code",
   "execution_count": 18,
   "id": "a957600a",
   "metadata": {},
   "outputs": [],
   "source": [
    "L = L + [\"how are\", 6, \"You\"]"
   ]
  },
  {
   "cell_type": "code",
   "execution_count": 19,
   "id": "3066f99a",
   "metadata": {},
   "outputs": [
    {
     "data": {
      "text/plain": [
       "[1, 3, 4.9, 'name', 3, 'how are', 6, 'You']"
      ]
     },
     "execution_count": 19,
     "metadata": {},
     "output_type": "execute_result"
    }
   ],
   "source": [
    "L"
   ]
  },
  {
   "cell_type": "code",
   "execution_count": 22,
   "id": "bf60651c",
   "metadata": {},
   "outputs": [],
   "source": [
    "L.append(6.8) #append only takes one argument, unlike + takes a number"
   ]
  },
  {
   "cell_type": "code",
   "execution_count": 23,
   "id": "fef80dfb",
   "metadata": {},
   "outputs": [
    {
     "data": {
      "text/plain": [
       "[1, 3, 4.9, 'name', 3, 'how are', 6, 'You', 6.8, 6.8]"
      ]
     },
     "execution_count": 23,
     "metadata": {},
     "output_type": "execute_result"
    }
   ],
   "source": [
    "L"
   ]
  },
  {
   "cell_type": "code",
   "execution_count": 25,
   "id": "9697b4e2",
   "metadata": {},
   "outputs": [],
   "source": [
    "#Tuples are immutable, you cant add or del a value in a tuple\n",
    "#But you can add 2 or more tuples. Or remove/ del a whole tuple."
   ]
  },
  {
   "cell_type": "code",
   "execution_count": 26,
   "id": "f456f512",
   "metadata": {},
   "outputs": [],
   "source": [
    "T2= ('a','b',45)\n",
    "T3= T+T2"
   ]
  },
  {
   "cell_type": "code",
   "execution_count": 27,
   "id": "df9be5cd",
   "metadata": {},
   "outputs": [
    {
     "data": {
      "text/plain": [
       "(1, 3, 4.9, 'name', 3, 'a', 'b', 45)"
      ]
     },
     "execution_count": 27,
     "metadata": {},
     "output_type": "execute_result"
    }
   ],
   "source": [
    "T3"
   ]
  },
  {
   "cell_type": "code",
   "execution_count": 28,
   "id": "62e3a9a1",
   "metadata": {},
   "outputs": [],
   "source": [
    "#Sets you can add or del an element in a set"
   ]
  },
  {
   "cell_type": "code",
   "execution_count": 29,
   "id": "c0d9a359",
   "metadata": {},
   "outputs": [
    {
     "data": {
      "text/plain": [
       "{1, 3, 4.9, 'name'}"
      ]
     },
     "execution_count": 29,
     "metadata": {},
     "output_type": "execute_result"
    }
   ],
   "source": [
    "S"
   ]
  },
  {
   "cell_type": "code",
   "execution_count": 30,
   "id": "80b19902",
   "metadata": {},
   "outputs": [],
   "source": [
    "S.update({23,\"game\",1})"
   ]
  },
  {
   "cell_type": "code",
   "execution_count": 31,
   "id": "6bee8608",
   "metadata": {},
   "outputs": [
    {
     "data": {
      "text/plain": [
       "{1, 23, 3, 4.9, 'game', 'name'}"
      ]
     },
     "execution_count": 31,
     "metadata": {},
     "output_type": "execute_result"
    }
   ],
   "source": [
    "S"
   ]
  },
  {
   "cell_type": "code",
   "execution_count": 32,
   "id": "22f4ee09",
   "metadata": {},
   "outputs": [
    {
     "data": {
      "text/plain": [
       "{23: 'twothree', 'B': 43, 'C': 'CCD'}"
      ]
     },
     "execution_count": 32,
     "metadata": {},
     "output_type": "execute_result"
    }
   ],
   "source": [
    "D"
   ]
  },
  {
   "cell_type": "code",
   "execution_count": 33,
   "id": "e211fbdb",
   "metadata": {},
   "outputs": [],
   "source": [
    "D['newkey'] = \"newvalue\""
   ]
  },
  {
   "cell_type": "code",
   "execution_count": 34,
   "id": "1b2755e4",
   "metadata": {},
   "outputs": [
    {
     "data": {
      "text/plain": [
       "{23: 'twothree', 'B': 43, 'C': 'CCD', 'newkey': 'newvalue'}"
      ]
     },
     "execution_count": 34,
     "metadata": {},
     "output_type": "execute_result"
    }
   ],
   "source": [
    "D"
   ]
  },
  {
   "cell_type": "code",
   "execution_count": 35,
   "id": "95923db5",
   "metadata": {},
   "outputs": [],
   "source": [
    "D2={\"y\":\"YY\", \"z\":10}"
   ]
  },
  {
   "cell_type": "code",
   "execution_count": 46,
   "id": "c01cd20b",
   "metadata": {},
   "outputs": [
    {
     "ename": "TypeError",
     "evalue": "unsupported operand type(s) for +: 'dict' and 'dict'",
     "output_type": "error",
     "traceback": [
      "\u001b[1;31m---------------------------------------------------------------------------\u001b[0m",
      "\u001b[1;31mTypeError\u001b[0m                                 Traceback (most recent call last)",
      "Input \u001b[1;32mIn [46]\u001b[0m, in \u001b[0;36m<cell line: 1>\u001b[1;34m()\u001b[0m\n\u001b[1;32m----> 1\u001b[0m D3 \u001b[38;5;241m=\u001b[39m \u001b[43mD\u001b[49m\u001b[38;5;241;43m+\u001b[39;49m\u001b[43mD2\u001b[49m\n",
      "\u001b[1;31mTypeError\u001b[0m: unsupported operand type(s) for +: 'dict' and 'dict'"
     ]
    }
   ],
   "source": [
    "D3 = D+D2 #+ function does not work in Dictionary\n",
    "#We use update just like in sets D.update({D2})"
   ]
  },
  {
   "cell_type": "code",
   "execution_count": 37,
   "id": "147a12fc",
   "metadata": {},
   "outputs": [
    {
     "data": {
      "text/plain": [
       "[1, 3, 4.9, 'name', 3, 'how are', 6, 'You', 6.8, 6.8]"
      ]
     },
     "execution_count": 37,
     "metadata": {},
     "output_type": "execute_result"
    }
   ],
   "source": [
    "L"
   ]
  },
  {
   "cell_type": "code",
   "execution_count": 38,
   "id": "0938750c",
   "metadata": {},
   "outputs": [],
   "source": [
    "del L[3] #deletes the \"name\""
   ]
  },
  {
   "cell_type": "code",
   "execution_count": 39,
   "id": "9c31eac9",
   "metadata": {},
   "outputs": [
    {
     "data": {
      "text/plain": [
       "[1, 3, 4.9, 3, 'how are', 6, 'You', 6.8, 6.8]"
      ]
     },
     "execution_count": 39,
     "metadata": {},
     "output_type": "execute_result"
    }
   ],
   "source": [
    "L"
   ]
  },
  {
   "cell_type": "code",
   "execution_count": 40,
   "id": "b5634df1",
   "metadata": {},
   "outputs": [
    {
     "data": {
      "text/plain": [
       "{1, 23, 3, 4.9, 'game', 'name'}"
      ]
     },
     "execution_count": 40,
     "metadata": {},
     "output_type": "execute_result"
    }
   ],
   "source": [
    "S"
   ]
  },
  {
   "cell_type": "code",
   "execution_count": 41,
   "id": "c62670d0",
   "metadata": {},
   "outputs": [],
   "source": [
    "S.remove('game')"
   ]
  },
  {
   "cell_type": "code",
   "execution_count": 42,
   "id": "21e12d26",
   "metadata": {},
   "outputs": [
    {
     "data": {
      "text/plain": [
       "{1, 23, 3, 4.9, 'name'}"
      ]
     },
     "execution_count": 42,
     "metadata": {},
     "output_type": "execute_result"
    }
   ],
   "source": [
    "S"
   ]
  },
  {
   "cell_type": "code",
   "execution_count": 43,
   "id": "76dd0291",
   "metadata": {},
   "outputs": [
    {
     "data": {
      "text/plain": [
       "{23: 'twothree', 'B': 43, 'C': 'CCD', 'newkey': 'newvalue'}"
      ]
     },
     "execution_count": 43,
     "metadata": {},
     "output_type": "execute_result"
    }
   ],
   "source": [
    "D"
   ]
  },
  {
   "cell_type": "code",
   "execution_count": 44,
   "id": "b66d6554",
   "metadata": {},
   "outputs": [],
   "source": [
    "del D['C']"
   ]
  },
  {
   "cell_type": "code",
   "execution_count": 45,
   "id": "9d856cf5",
   "metadata": {},
   "outputs": [
    {
     "data": {
      "text/plain": [
       "{23: 'twothree', 'B': 43, 'newkey': 'newvalue'}"
      ]
     },
     "execution_count": 45,
     "metadata": {},
     "output_type": "execute_result"
    }
   ],
   "source": [
    "D"
   ]
  },
  {
   "cell_type": "code",
   "execution_count": 47,
   "id": "dd688e0b",
   "metadata": {},
   "outputs": [],
   "source": [
    "#COPY() FUNCTION"
   ]
  },
  {
   "cell_type": "code",
   "execution_count": 49,
   "id": "826d1e9f",
   "metadata": {},
   "outputs": [
    {
     "data": {
      "text/plain": [
       "' In python when you assign like above, whatever you edit in L2\\naffects L too. Because the memory is stored as onne same value.\\nTo avoid that, we use the copy() function. So that whatever you \\nedit in L2, does not affect the values in L\\n\\n'"
      ]
     },
     "execution_count": 49,
     "metadata": {},
     "output_type": "execute_result"
    }
   ],
   "source": [
    "L \n",
    "\"\"\" In python when you assign like above, whatever you edit in L2\n",
    "affects L too. Because the memory is stored as onne same value.\n",
    "To avoid that, we use the copy() function. So that whatever you \n",
    "edit in L2, does not affect the values in L\n",
    "\n",
    "\"\"\""
   ]
  },
  {
   "cell_type": "code",
   "execution_count": 50,
   "id": "9d46e2ae",
   "metadata": {},
   "outputs": [
    {
     "data": {
      "text/plain": [
       "[1, 3, 4.9, 3, 'how are', 6, 'You', 6.8, 6.8]"
      ]
     },
     "execution_count": 50,
     "metadata": {},
     "output_type": "execute_result"
    }
   ],
   "source": [
    "L"
   ]
  },
  {
   "cell_type": "code",
   "execution_count": 52,
   "id": "cdeeab44",
   "metadata": {},
   "outputs": [],
   "source": [
    "L2 = L+[99,\"Po\"]"
   ]
  },
  {
   "cell_type": "code",
   "execution_count": 53,
   "id": "5e0cceea",
   "metadata": {},
   "outputs": [
    {
     "name": "stdout",
     "output_type": "stream",
     "text": [
      "[1, 3, 4.9, 3, 'how are', 6, 'You', 6.8, 6.8, 99, 'Po']\n"
     ]
    }
   ],
   "source": [
    "L=L2\n",
    "print(L2)"
   ]
  },
  {
   "cell_type": "code",
   "execution_count": 56,
   "id": "e53ce056",
   "metadata": {},
   "outputs": [],
   "source": [
    "L2.append(789) #when adding a value in L2,it will also add te value in L"
   ]
  },
  {
   "cell_type": "code",
   "execution_count": 57,
   "id": "db7149d5",
   "metadata": {},
   "outputs": [
    {
     "data": {
      "text/plain": [
       "[1, 3, 4.9, 3, 'how are', 6, 'You', 6.8, 6.8, 99, 'Po', 789, 789]"
      ]
     },
     "execution_count": 57,
     "metadata": {},
     "output_type": "execute_result"
    }
   ],
   "source": [
    "L2"
   ]
  },
  {
   "cell_type": "code",
   "execution_count": 58,
   "id": "21118b9b",
   "metadata": {},
   "outputs": [
    {
     "data": {
      "text/plain": [
       "[1, 3, 4.9, 3, 'how are', 6, 'You', 6.8, 6.8, 99, 'Po', 789, 789]"
      ]
     },
     "execution_count": 58,
     "metadata": {},
     "output_type": "execute_result"
    }
   ],
   "source": [
    "L"
   ]
  },
  {
   "cell_type": "code",
   "execution_count": 59,
   "id": "0123cbd1",
   "metadata": {},
   "outputs": [],
   "source": [
    "#To avoid this, use copy\n",
    "L2=L.copy()"
   ]
  },
  {
   "cell_type": "code",
   "execution_count": 60,
   "id": "aa7e118c",
   "metadata": {},
   "outputs": [],
   "source": [
    "L2.append(\"minemine\")"
   ]
  },
  {
   "cell_type": "code",
   "execution_count": 61,
   "id": "f7d6fbe9",
   "metadata": {},
   "outputs": [
    {
     "data": {
      "text/plain": [
       "[1, 3, 4.9, 3, 'how are', 6, 'You', 6.8, 6.8, 99, 'Po', 789, 789, 'minemine']"
      ]
     },
     "execution_count": 61,
     "metadata": {},
     "output_type": "execute_result"
    }
   ],
   "source": [
    "L2"
   ]
  },
  {
   "cell_type": "code",
   "execution_count": 6,
   "id": "e17b69d9",
   "metadata": {},
   "outputs": [
    {
     "data": {
      "text/plain": [
       "[1, 3, 4.9, 'name', 3]"
      ]
     },
     "execution_count": 6,
     "metadata": {},
     "output_type": "execute_result"
    }
   ],
   "source": [
    "L"
   ]
  },
  {
   "cell_type": "code",
   "execution_count": 63,
   "id": "4bbb1b54",
   "metadata": {},
   "outputs": [],
   "source": [
    "#The same happens in Sets and dictionary\n",
    "#S2= S.copy()\n",
    "#D2=D.copy()"
   ]
  },
  {
   "cell_type": "code",
   "execution_count": 64,
   "id": "4822a745",
   "metadata": {},
   "outputs": [],
   "source": [
    "#However in slicing, what is formed is a completely new List and\n",
    "#thus editing it does not affect the original List. "
   ]
  },
  {
   "cell_type": "code",
   "execution_count": 8,
   "id": "ffb30226",
   "metadata": {},
   "outputs": [],
   "source": [
    "L3= L[1:5] #This means a new List is totally formed named L3"
   ]
  },
  {
   "cell_type": "code",
   "execution_count": 18,
   "id": "de968131",
   "metadata": {},
   "outputs": [
    {
     "data": {
      "text/plain": [
       "[3, 4.9]"
      ]
     },
     "execution_count": 18,
     "metadata": {},
     "output_type": "execute_result"
    }
   ],
   "source": [
    "L3"
   ]
  },
  {
   "cell_type": "code",
   "execution_count": 22,
   "id": "a1631883",
   "metadata": {},
   "outputs": [],
   "source": [
    "del L3[2] #Deleting in L3 does not delete it in L"
   ]
  },
  {
   "cell_type": "code",
   "execution_count": 14,
   "id": "d1f20327",
   "metadata": {},
   "outputs": [
    {
     "data": {
      "text/plain": [
       "[3, 4.9]"
      ]
     },
     "execution_count": 14,
     "metadata": {},
     "output_type": "execute_result"
    }
   ],
   "source": [
    "L3"
   ]
  },
  {
   "cell_type": "code",
   "execution_count": 15,
   "id": "72d6ed4d",
   "metadata": {},
   "outputs": [
    {
     "data": {
      "text/plain": [
       "[1, 3, 4.9, 'name', 3]"
      ]
     },
     "execution_count": 15,
     "metadata": {},
     "output_type": "execute_result"
    }
   ],
   "source": [
    "L"
   ]
  },
  {
   "cell_type": "code",
   "execution_count": 21,
   "id": "89ab4007",
   "metadata": {},
   "outputs": [],
   "source": [
    "L3.append(\"name\")"
   ]
  },
  {
   "cell_type": "code",
   "execution_count": 23,
   "id": "726c6d5b",
   "metadata": {},
   "outputs": [
    {
     "data": {
      "text/plain": [
       "[3, 4.9]"
      ]
     },
     "execution_count": 23,
     "metadata": {},
     "output_type": "execute_result"
    }
   ],
   "source": [
    "L3"
   ]
  },
  {
   "cell_type": "code",
   "execution_count": 24,
   "id": "8b8a0cbe",
   "metadata": {},
   "outputs": [],
   "source": [
    "#Slicing in NUmpy array is different from what we've learnt above."
   ]
  },
  {
   "cell_type": "code",
   "execution_count": 25,
   "id": "c0de75c6",
   "metadata": {},
   "outputs": [],
   "source": [
    "#Remember inorder to access the functions e.g in List, you write L. (Then press tab)"
   ]
  },
  {
   "cell_type": "code",
   "execution_count": 26,
   "id": "dee3ff29",
   "metadata": {},
   "outputs": [],
   "source": [
    "#A list can contain a dict,set, tuple, the reverse is true also.\n",
    "#A Dict can contain list, tuple, set,\n",
    "#They all alternate."
   ]
  },
  {
   "cell_type": "code",
   "execution_count": 27,
   "id": "94eb8ab8",
   "metadata": {},
   "outputs": [
    {
     "data": {
      "text/plain": [
       "[1, 3, 4.9, 'name', 3]"
      ]
     },
     "execution_count": 27,
     "metadata": {},
     "output_type": "execute_result"
    }
   ],
   "source": [
    "L"
   ]
  },
  {
   "cell_type": "code",
   "execution_count": 28,
   "id": "e8cc116c",
   "metadata": {},
   "outputs": [
    {
     "data": {
      "text/plain": [
       "(1, 3, 4.9, 'name', 3)"
      ]
     },
     "execution_count": 28,
     "metadata": {},
     "output_type": "execute_result"
    }
   ],
   "source": [
    "T"
   ]
  },
  {
   "cell_type": "code",
   "execution_count": 29,
   "id": "05e91f1a",
   "metadata": {},
   "outputs": [
    {
     "data": {
      "text/plain": [
       "{1, 3, 4.9, 'name'}"
      ]
     },
     "execution_count": 29,
     "metadata": {},
     "output_type": "execute_result"
    }
   ],
   "source": [
    "S"
   ]
  },
  {
   "cell_type": "code",
   "execution_count": 30,
   "id": "7d93c836",
   "metadata": {},
   "outputs": [
    {
     "data": {
      "text/plain": [
       "{23: 'twothree', 'B': 43, 'C': 'CCD'}"
      ]
     },
     "execution_count": 30,
     "metadata": {},
     "output_type": "execute_result"
    }
   ],
   "source": [
    "D"
   ]
  },
  {
   "cell_type": "code",
   "execution_count": 31,
   "id": "05b72ef3",
   "metadata": {},
   "outputs": [],
   "source": [
    "D2 = {'A':L, 'B':T, 'C':S, 'D':D}"
   ]
  },
  {
   "cell_type": "code",
   "execution_count": 32,
   "id": "6b452d5c",
   "metadata": {},
   "outputs": [
    {
     "data": {
      "text/plain": [
       "'name'"
      ]
     },
     "execution_count": 32,
     "metadata": {},
     "output_type": "execute_result"
    }
   ],
   "source": [
    "D2['A'][3]"
   ]
  },
  {
   "cell_type": "code",
   "execution_count": 33,
   "id": "3da3dc79",
   "metadata": {},
   "outputs": [],
   "source": [
    "L3= [L,T,D,23,\"game\"]"
   ]
  },
  {
   "cell_type": "code",
   "execution_count": 34,
   "id": "a80a5a81",
   "metadata": {},
   "outputs": [
    {
     "data": {
      "text/plain": [
       "dict"
      ]
     },
     "execution_count": 34,
     "metadata": {},
     "output_type": "execute_result"
    }
   ],
   "source": [
    "type(L3[2])"
   ]
  },
  {
   "cell_type": "code",
   "execution_count": 35,
   "id": "f47e6eba",
   "metadata": {},
   "outputs": [
    {
     "data": {
      "text/plain": [
       "{23: 'twothree', 'B': 43, 'C': 'CCD'}"
      ]
     },
     "execution_count": 35,
     "metadata": {},
     "output_type": "execute_result"
    }
   ],
   "source": [
    "L3[2]"
   ]
  },
  {
   "cell_type": "code",
   "execution_count": 37,
   "id": "7e6257bf",
   "metadata": {},
   "outputs": [],
   "source": [
    "#You can make your List, e.g. list of squares from 0 to 9\n",
    "L4 = [x**2 for x in range(10)]"
   ]
  },
  {
   "cell_type": "code",
   "execution_count": 38,
   "id": "657d8c39",
   "metadata": {},
   "outputs": [
    {
     "data": {
      "text/plain": [
       "[0, 1, 4, 9, 16, 25, 36, 49, 64, 81]"
      ]
     },
     "execution_count": 38,
     "metadata": {},
     "output_type": "execute_result"
    }
   ],
   "source": [
    "L4"
   ]
  },
  {
   "cell_type": "code",
   "execution_count": 39,
   "id": "95530034",
   "metadata": {},
   "outputs": [],
   "source": [
    "S4 = {x**2 for x in range(2,20,3)}"
   ]
  },
  {
   "cell_type": "code",
   "execution_count": 40,
   "id": "a2a7932c",
   "metadata": {},
   "outputs": [
    {
     "data": {
      "text/plain": [
       "{4, 25, 64, 121, 196, 289}"
      ]
     },
     "execution_count": 40,
     "metadata": {},
     "output_type": "execute_result"
    }
   ],
   "source": [
    "S4"
   ]
  },
  {
   "cell_type": "code",
   "execution_count": null,
   "id": "a109c8ae",
   "metadata": {},
   "outputs": [],
   "source": [
    "\"\"\" Let say you are a teacher and you have different student records\n",
    "containing Id of a student and the marks list in each subject where\n",
    "different students have taken different number of subjects. All\n",
    "these records are in hard copy. You want to enter all the data in\n",
    "computer and want to compute the average marks of each student and display\n",
    "\"\"\"\n",
    "\n",
    "def getDataFromUser():\n",
    "    D = {}\n",
    "    while True:\n",
    "        studentId = input(\"Enter student ID: \")\n",
    "        marksList = input(\"Enter the marks by comma separated values: \")\n",
    "        moreStudents = input('Enter \"no\" to quit insertion')\n",
    "        if studentId in D:\n",
    "            print(studentId, \"is already inserted\")\n",
    "        else:\n",
    "            D[studentId] = marksList.split(\",\")\n",
    "        if moreStudents.lower() == \"no\": \n",
    "             return D"
   ]
  },
  {
   "cell_type": "code",
   "execution_count": null,
   "id": "340c9289",
   "metadata": {},
   "outputs": [],
   "source": [
    "studentData = getDataFromUser()"
   ]
  },
  {
   "cell_type": "code",
   "execution_count": null,
   "id": "c8020036",
   "metadata": {},
   "outputs": [],
   "source": []
  },
  {
   "cell_type": "code",
   "execution_count": null,
   "id": "0ba5ac74",
   "metadata": {},
   "outputs": [],
   "source": [
    "def getAvgMarks(D):\n",
    "    avgMarksDict = {}\n",
    "    for x in D:\n",
    "        L = D[x]\n",
    "        s = 0\n",
    "        for marks in L:\n",
    "            s+= int(marks)\n",
    "        avgMarks[x] = s/len(L) "
   ]
  },
  {
   "cell_type": "code",
   "execution_count": null,
   "id": "68c2cf64",
   "metadata": {},
   "outputs": [],
   "source": [
    "avgm = getAvgMarks(studentData)"
   ]
  },
  {
   "cell_type": "code",
   "execution_count": null,
   "id": "04779b2d",
   "metadata": {},
   "outputs": [],
   "source": [
    "!piplist"
   ]
  },
  {
   "cell_type": "code",
   "execution_count": null,
   "id": "327b6afd",
   "metadata": {},
   "outputs": [],
   "source": []
  }
 ],
 "metadata": {
  "kernelspec": {
   "display_name": "Python 3 (ipykernel)",
   "language": "python",
   "name": "python3"
  },
  "language_info": {
   "codemirror_mode": {
    "name": "ipython",
    "version": 3
   },
   "file_extension": ".py",
   "mimetype": "text/x-python",
   "name": "python",
   "nbconvert_exporter": "python",
   "pygments_lexer": "ipython3",
   "version": "3.9.12"
  }
 },
 "nbformat": 4,
 "nbformat_minor": 5
}
